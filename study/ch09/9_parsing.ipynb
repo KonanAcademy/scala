{
 "cells": [
  {
   "cell_type": "markdown",
   "metadata": {},
   "source": [
    "# 9. 파서 조합기 라이브러리"
   ]
  },
  {
   "cell_type": "markdown",
   "metadata": {},
   "source": [
    "함수적 설계 과정에 대한 영감을 제공하는데 초점을 둔다."
   ]
  },
  {
   "cell_type": "markdown",
   "metadata": {},
   "source": [
    "### 파서 조합기 VS 파서 생성기"
   ]
  },
  {
   "cell_type": "raw",
   "metadata": {},
   "source": [
    "# 파서 생성기\n",
    "  - C/C++ Yacc\n",
    "  - 주어진 문법 명세에 기초해서 파서의 구현 코드를 생성함.\n",
    "  - 통일적인 코드 덩어리. 재사용 어려움.\n",
    "\n",
    "# 파서 조합기\n",
    "  - 파서가 하나의 값이다.\n",
    "  - 재사용 쉽다."
   ]
  },
  {
   "cell_type": "markdown",
   "metadata": {},
   "source": [
    "## 9.1 대수적 설계"
   ]
  },
  {
   "cell_type": "raw",
   "metadata": {},
   "source": [
    "# 대수\n",
    "어떤 자료 형식들에 작용하는 일단의 함수들과 그 함수들 사이의 관계를 명시하는 일단의 법칙들의 모음.\n",
    "\n",
    "# 대수적 설계\n",
    "대수(법칙들을 포함한)를 먼저 설계하고, 표현은 나중에 결정한다."
   ]
  },
  {
   "cell_type": "markdown",
   "metadata": {},
   "source": [
    "#### 하나의 문자 'a'를 인식하는 파서"
   ]
  },
  {
   "cell_type": "code",
   "execution_count": null,
   "metadata": {
    "collapsed": true
   },
   "outputs": [],
   "source": [
    "def char(c: Char): Parser[Char]"
   ]
  },
  {
   "cell_type": "raw",
   "metadata": {},
   "source": [
    "- Parser의 타입 매개변수는, Parser의 결과 형식을 의미.\n",
    "- char('a') 파서는 입력이 딱 문자 'a'일 때에만 성공하며, 성공 시 그 문자 'a'를 돌려준다."
   ]
  },
  {
   "cell_type": "markdown",
   "metadata": {},
   "source": [
    "#### 파서 실행을 위한 함수"
   ]
  },
  {
   "cell_type": "code",
   "execution_count": null,
   "metadata": {
    "collapsed": true
   },
   "outputs": [],
   "source": [
    "def run[A](p: Parser[A])(input: String): Either[ParseError,A] "
   ]
  },
  {
   "cell_type": "markdown",
   "metadata": {},
   "source": [
    "#### 인터페이스"
   ]
  },
  {
   "cell_type": "code",
   "execution_count": null,
   "metadata": {
    "collapsed": true
   },
   "outputs": [],
   "source": [
    "trait Parsers[ParseError, Parser[+_]] {\n",
    "    def run[A](p: Parser[A])(input: String): Either[ParseError,A]\n",
    "    def char(c: Char): Parser[Char]\n",
    "}"
   ]
  },
  {
   "cell_type": "raw",
   "metadata": {},
   "source": [
    "- ParseError의 임의의 표현에 대해 작동함.\n",
    "- Parser의 임의의 표현에 대해 작동함."
   ]
  },
  {
   "cell_type": "code",
   "execution_count": null,
   "metadata": {
    "collapsed": true
   },
   "outputs": [],
   "source": [
    "run(char(c))(c.toString) == Right(c)"
   ]
  },
  {
   "cell_type": "markdown",
   "metadata": {},
   "source": [
    "#### \"abracadabra\"와 같은 문자열을 위한 파서"
   ]
  },
  {
   "cell_type": "code",
   "execution_count": null,
   "metadata": {
    "collapsed": true
   },
   "outputs": [],
   "source": [
    "def string(s: String): Parser[String]"
   ]
  },
  {
   "cell_type": "markdown",
   "metadata": {},
   "source": [
    "#### \"abra\" 또는 \"cadabra\"를 인식"
   ]
  },
  {
   "cell_type": "code",
   "execution_count": null,
   "metadata": {
    "collapsed": true
   },
   "outputs": [],
   "source": [
    "def orString(s1: string, s2: String): Parser[String]"
   ]
  },
  {
   "cell_type": "raw",
   "metadata": {},
   "source": [
    "좀 더 일반적인 형태로 바꿔보자.\n",
    "결과 형식에 무관하게 두 파서 중 하나를 선택하게 하자."
   ]
  },
  {
   "cell_type": "code",
   "execution_count": null,
   "metadata": {
    "collapsed": true
   },
   "outputs": [],
   "source": [
    "def or[A](s1: Parser[A], s2: Parser[A]): Parser[A]"
   ]
  },
  {
   "cell_type": "raw",
   "metadata": {},
   "source": [
    "두 파서 중 하나만 성공하면 => 성공.\n",
    "\n",
    "run(or(string(\"abra\"), string(\"cadabra\")))(\"abra\") == Right(\"abra\")"
   ]
  },
  {
   "cell_type": "markdown",
   "metadata": {},
   "source": [
    "#### or 조합기를 위한 중위 구문(infix syntax) 추가."
   ]
  },
  {
   "cell_type": "code",
   "execution_count": null,
   "metadata": {
    "collapsed": true
   },
   "outputs": [],
   "source": [
    "trait Parsers[ParserError, Parser[+_]] { self =>\n",
    "    def or[A](s1: Parser[A], s2: Parser[A]): Parser[A]\n",
    "    implicit def string(s: String): Parser[String]\n",
    "    implicit def operators[A](p: Parser[A]) = ParserOps[A](p)\n",
    "    implicit def asStringParser[A](a: A)(implicit f: A => Parser[String]):\n",
    "        ParserOps[String] = ParserOps(f(a))\n",
    "    \n",
    "    case class ParserOps[A](p: Parser[A]) {\n",
    "        def |[B>:A](p2: Parser[B]): Parser[B] = self.or(p,p2)\n",
    "        def or[B>:A](p2: Parser[B]): Parser[B] = self.or(p,p2)\n",
    "    }\n",
    "}"
   ]
  },
  {
   "cell_type": "raw",
   "metadata": {},
   "source": [
    "string을 암묵적 변환으로 만듦.\n",
    "암묵적 asStringParser 추가\n",
    "=> 자동으로 String을 Parser로 승격.\n",
    "=> 임의의 형식을 Parser[String]으로 변환하는 중위 연산자.\n",
    "\n",
    "- \"abra\" | \"cadabra\" 같은 표현식으로 파서를 생성할 수 있음.\n",
    "\"abra\" or \"cadabraq\""
   ]
  },
  {
   "cell_type": "markdown",
   "metadata": {},
   "source": [
    "#### 파서가 되풀이 되는 경우를 위한 조합기"
   ]
  },
  {
   "cell_type": "code",
   "execution_count": null,
   "metadata": {
    "collapsed": true
   },
   "outputs": [],
   "source": [
    "def listOfN[A](n: Int, p: Parser[A]): Parser[List[A]]"
   ]
  },
  {
   "cell_type": "raw",
   "metadata": {},
   "source": [
    "run(listOfN(3, \"ab\" | \"cad\"))(\"ababcad\") == Right(List(\"ab\",\"ab\",\"cad\"))"
   ]
  },
  {
   "cell_type": "markdown",
   "metadata": {},
   "source": [
    "## 9.2 가능한 대수 하나"
   ]
  },
  {
   "cell_type": "markdown",
   "metadata": {},
   "source": [
    "#### 0개 이상의 문자 'a'를 인식해서 그 개수를 돌려주는 파서"
   ]
  },
  {
   "cell_type": "code",
   "execution_count": null,
   "metadata": {
    "collapsed": true
   },
   "outputs": [],
   "source": [
    "def many[A](p: Parser[A]): Parser[List[A]]"
   ]
  },
  {
   "cell_type": "code",
   "execution_count": null,
   "metadata": {
    "collapsed": true
   },
   "outputs": [],
   "source": [
    "def map[A,B](a: Parser[A])(f: A => B): Parser[B]"
   ]
  },
  {
   "cell_type": "code",
   "execution_count": null,
   "metadata": {
    "collapsed": true
   },
   "outputs": [],
   "source": [
    "map(many(char('a')))(_.size)"
   ]
  },
  {
   "cell_type": "raw",
   "metadata": {},
   "source": [
    "map과 many를 ParseOps의 메서드로 추가하면, 아래와 같이 사용 가능."
   ]
  },
  {
   "cell_type": "code",
   "execution_count": null,
   "metadata": {
    "collapsed": true
   },
   "outputs": [],
   "source": [
    "val numA: Parser[Int] = char('a').many.map(_.size)"
   ]
  },
  {
   "cell_type": "raw",
   "metadata": {},
   "source": [
    "run(numA)(\"aaa\")는 Right(3)을 반환함."
   ]
  },
  {
   "cell_type": "markdown",
   "metadata": {},
   "source": [
    "### 9.2.1 슬라이싱"
   ]
  },
  {
   "cell_type": "raw",
   "metadata": {},
   "source": [
    "many와 map을 조합해서 문자 'a'의 개수를 세는 파싱 과제를 표현할 수 있다.\n",
    "이러한 구현은 List[Char]를 구축하고는 그 길이만 추출하고 값들을 폐기하므로 비효율적이다.\n",
    "Parser가 입력 문자열에서 자신이 조사하는 부분만 보게 만들 수 있으면 좋다."
   ]
  },
  {
   "cell_type": "code",
   "execution_count": null,
   "metadata": {
    "collapsed": true
   },
   "outputs": [],
   "source": [
    "def slice[A](p: Parser[A]): Parser[String]"
   ]
  },
  {
   "cell_type": "raw",
   "metadata": {},
   "source": [
    "파싱 성공 시 입력 문자열 중 파서가 조사한 부분('조각')만 돌려준다.\n",
    "\n",
    "run(slice(('a'|'b').many))(\"aaba\")의 결과는 Right(\"aaba\")\n",
    "- many가 누적한 목록은 무시하고, 입력 문자열 중 파서와 성공적으로 부합한 부분만 돌려줌.\n",
    "\n",
    "문자 'a'의 개수를 세는 파서를 slice를 이용해 아래와 같이 표현 가능\n",
    "\n",
    "char('a').many.slice.map(_.size)\n",
    "\n",
    "=> String의 size 메서드는, 목록의 길이에 비례하는 시간으로 실행되는 List의 size 메서드와는 달리 상수 시간으로 실행된다.\n",
    "\n",
    "임시 List가 생성되지 않도록 slice를 구현해야 함."
   ]
  },
  {
   "cell_type": "markdown",
   "metadata": {},
   "source": [
    "#### A 파서가 성공하면 B 파서를 실행"
   ]
  },
  {
   "cell_type": "code",
   "execution_count": null,
   "metadata": {
    "collapsed": true
   },
   "outputs": [],
   "source": [
    "def product[A,B](p: Parser[A], p2: Parser[B]): Parser[(A,B)]"
   ]
  },
  {
   "cell_type": "markdown",
   "metadata": {},
   "source": [
    "## 9.3 문맥 민감성의 처리"
   ]
  },
  {
   "cell_type": "raw",
   "metadata": {},
   "source": [
    "# 기본 수단들\n",
    "\n",
    "- string(s):  하나의 string을 인식해서 돌려준다.\n",
    "- slice(p):   파싱 성공 시 입력 중 p가 조사한 부분을 돌려준다.\n",
    "- succeed(a): 항상 성공해서 값 a를 돌려준다.\n",
    "- map(p)(f):  파싱 성공 시 p의 결과에 함수 f를 적용한다.\n",
    "- product(p1,p2): 두 파서를 차례로 실행하고, 둘 다 성공한 경우에만 그 결과들의 쌍을 돌려준다.\n",
    "- or(p1,p2):  두 파서 중 하나를 선택한다. 먼저 p1을 시도하고, 만약 p1이 실패하면 p2를 시도한다.\n",
    "\n",
    "위의 기본 수단들을 사용해서 JSON과 같은 context-free grammar를 파싱할 수 있다."
   ]
  },
  {
   "cell_type": "raw",
   "metadata": {},
   "source": [
    "'4'와 같은 어떤 숫자 하나 다음에 그 개수만큼의 문자 'a'가 오는 문자열을 파싱?\n",
    "\"1a\", \"2aa\", \"4aaaa\"\n",
    "\n",
    "- 이런 context-sensitive grammar는 product로 표현할 수 없다.\n",
    "- 둘째 파서의 선택이 첫 파서의 결과에 의존하기 때문임."
   ]
  },
  {
   "cell_type": "code",
   "execution_count": null,
   "metadata": {
    "collapsed": true
   },
   "outputs": [],
   "source": [
    "def flatMap[A,B](p: Parser[A])(f: A => Parser[B]): Parser[B]"
   ]
  },
  {
   "cell_type": "raw",
   "metadata": {},
   "source": [
    "이 서명은 한 파서가 그 이전 파서의 출력에 의존하도록 여러 개의 파서를 차례로 실행하는 능력을 함의하고 있다.\n",
    "\n",
    "map과 product를 flatMap으로 구현할 수 있다.\n",
    "\n",
    "최종적인 기본 수단은 아래 6개로 정리됨.\n",
    "string. regex, slice, succeed, or, flatMap"
   ]
  },
  {
   "cell_type": "markdown",
   "metadata": {},
   "source": [
    "## 9.4 JSON 파서 작성"
   ]
  },
  {
   "cell_type": "code",
   "execution_count": null,
   "metadata": {
    "collapsed": true
   },
   "outputs": [],
   "source": [
    "def jsonParser[Err,Parser[+_]](P: Parsers[Err,Parser]): Parser[JSON] = {\n",
    "    import P._\n",
    "    val spaces = char(' ').many.slice\n",
    "    ...\n",
    "}"
   ]
  },
  {
   "cell_type": "raw",
   "metadata": {},
   "source": [
    "- 아직 구현된 내용이 없음.\n",
    "- 함수형 프로그래밍에서는 구체적인 구현 없이 대수부터 정의하고 그 표현력을 탐색하는 것이 흔한 일임.\n",
    "- 구체적인 구현부터 시작하면 구현 코드에 손발이 묶여서 API를 변경하기가 어려워짐.\n",
    "- 라이브러리 설계 단계에서는 구현하지 않은 상태에서 대수를 정련하는 것이 쉽다.\n",
    "- 이 장의 목표 중 하나는 독자가 이런 작업 방식에 익숙해지게 하는 것임."
   ]
  },
  {
   "cell_type": "markdown",
   "metadata": {},
   "source": [
    "### 9.4.1 JSON 서식"
   ]
  },
  {
   "cell_type": "code",
   "execution_count": null,
   "metadata": {
    "collapsed": true
   },
   "outputs": [],
   "source": [
    "trait JSON\n",
    "object JSON {\n",
    "    case object JNull extends JSON\n",
    "    case class JNumber(get: Double) extends JSON\n",
    "    case class JString(get: String) extends JSON\n",
    "    case class JBool(get: Boolean) extends JSON\n",
    "    case class JArray(get: IndexedSeq[JSON]) extends JSON\n",
    "    case class JObject(get: Map[String, JSON]) extends JSON\n",
    "}"
   ]
  },
  {
   "cell_type": "markdown",
   "metadata": {},
   "source": [
    "### 9.4.2 JSON 파서"
   ]
  },
  {
   "cell_type": "raw",
   "metadata": {},
   "source": [
    "# 기본 수단들\n",
    "\n",
    "- string(s):  하나의 string을 인식해서 돌려준다.\n",
    "- regex(s):   정규표현식 s를 인식한다.\n",
    "- slice(p):   파싱 성공 시 입력 중 p가 조사한 부분을 돌려준다.\n",
    "- succeed(a): 항상 성공해서 값 a를 돌려준다.\n",
    "- flatMap(p)(f): 파서를 실행한 후 그 결과에 기초해서 둘째 파서를 선택, 실행한다.\n",
    "- or(p1,p2):  두 파서 중 하나를 선택한다. 먼저 p1을 시도하고, 만약 p1이 실패하면 p2를 시도한다.\n",
    "\n",
    "위 기본 수단들을 이용해서 map, map2, many, many1 같은 조합기들을 정의할 수 있다.\n",
    "\n",
    "여러 파서 조합기들을 사용해서 JSON 파서를 만들어 보자!! (연습문제)"
   ]
  },
  {
   "cell_type": "markdown",
   "metadata": {},
   "source": [
    "## 9.5 오류 보고"
   ]
  },
  {
   "cell_type": "markdown",
   "metadata": {},
   "source": [
    "### 9.5.1 가능한 설계 하나"
   ]
  },
  {
   "cell_type": "code",
   "execution_count": null,
   "metadata": {
    "collapsed": true
   },
   "outputs": [],
   "source": [
    "def label[A](msg: String)(p: Parser[A]): Parser[A]"
   ]
  },
  {
   "cell_type": "raw",
   "metadata": {},
   "source": [
    "만일 p가 실패하면 해당 ParseError가 어떤 방식으로든 msg를 제시하게 하는 것."
   ]
  },
  {
   "cell_type": "raw",
   "metadata": {},
   "source": [
    "오류 메시지 뿐만 아니라 오류의 발생 위치도 알려주면 좋을 것이다."
   ]
  },
  {
   "cell_type": "code",
   "execution_count": null,
   "metadata": {
    "collapsed": true
   },
   "outputs": [],
   "source": [
    "case class Location(input: String, offset: Int = 0) {\n",
    "    lazy val line = input.slice(0, offset+1).count(_ == '\\n') + 1\n",
    "    lazy val col = input.slice(0, offset+1).lastIndexOf('\\n') match {\n",
    "        case -1 => offset + 1\n",
    "        case lineStart => offset - lineStart\n",
    "    }\n",
    "}\n",
    "\n",
    "\n",
    "def errorLocation(e: ParseError): Location\n",
    "def errorMessage(e: ParseError): String"
   ]
  },
  {
   "cell_type": "code",
   "execution_count": null,
   "metadata": {
    "collapsed": true
   },
   "outputs": [],
   "source": [
    "- 전체 입력, 오프셋, 행 번호, 열 번호\n",
    "- 행 번호와 열 번호는 게으르게 계산됨."
   ]
  }
 ],
 "metadata": {
  "kernelspec": {
   "display_name": "Scala 2.10",
   "language": "scala210",
   "name": "scala210"
  },
  "language_info": {
   "codemirror_mode": "text/x-scala",
   "file_extension": "scala",
   "mimetype": "text/x-scala",
   "name": "scala210",
   "pygments_lexer": "scala",
   "version": "2.10.5"
  }
 },
 "nbformat": 4,
 "nbformat_minor": 0
}
