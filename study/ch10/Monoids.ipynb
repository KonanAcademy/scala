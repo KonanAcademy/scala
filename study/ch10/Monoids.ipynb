{
 "cells": [
  {
   "cell_type": "markdown",
   "metadata": {},
   "source": [
    "# Chapter 10. Monoids"
   ]
  },
  {
   "cell_type": "markdown",
   "metadata": {},
   "source": [
    "##10.1. What is a Monoid?"
   ]
  },
  {
   "cell_type": "code",
   "execution_count": null,
   "metadata": {
    "collapsed": false,
    "scrolled": false
   },
   "outputs": [],
   "source": [
    "trait Monoid[A] {\n",
    "    def op(a1:A, a2:A): A\n",
    "    def zero: A\n",
    "}"
   ]
  },
  {
   "cell_type": "markdown",
   "metadata": {},
   "source": [
    "* A **_type_**\n",
    "* \\+ Binary operation _(**op**)_ over that type\n",
    "* \\+ Satisfying _**associativity**_ \n",
    "* \\+ Identity element _(**zero**)_\n",
    "\n",
    "```scala\n",
    "- op(op(x,y), z) == op(x, op(y,z))  // x:A, y:A, z:A  // associativity\n",
    "- op(x, zero) == op(zero, x) == x // for any x:A\n",
    "```\n",
    "\n",
    "### examples\n",
    "\n",
    "```scala\n",
    "// for string concatenation\n",
    "\"foo\" + \"bar\"\n",
    "(s + \"\") == (\"\" + s) == s\n",
    "(r + s + t) == ((r+s)+t) == (r+(s+t))\n",
    "\n",
    "\n",
    "// for integer addition\n",
    "x + y\n",
    "(x + 0) == (0 + x) == x\n",
    "(x + y + z) == ((x+y)+z) == (x+(y+z))\n",
    "```"
   ]
  },
  {
   "cell_type": "markdown",
   "metadata": {},
   "source": [
    "## 10.2. Folding lists with monoids"
   ]
  },
  {
   "cell_type": "code",
   "execution_count": null,
   "metadata": {
    "collapsed": false
   },
   "outputs": [],
   "source": [
    "val stringMonoid = new Monoid[String] {\n",
    "    def op(a1: String, a2: String) = a1 + a2\n",
    "    val zero = \"\"\n",
    "}"
   ]
  },
  {
   "cell_type": "markdown",
   "metadata": {},
   "source": [
    "```scala\n",
    "def foldRight[B](z: B)(f: (A,B) => B): B\n",
    "def foldLeft[B](z: B)(f: (B,A) => B): B\n",
    "```\n",
    "#### _what if A==B ?_\n",
    "```scala\n",
    "def foldRight[A](z: A)(f: (A,A) => A): A\n",
    "def foldLeft[A](z: A)(f: (A,A) => A): A\n",
    "```"
   ]
  },
  {
   "cell_type": "code",
   "execution_count": null,
   "metadata": {
    "collapsed": false,
    "scrolled": true
   },
   "outputs": [],
   "source": [
    "val words = List(\"Hic\", \"Est\", \"Index\")"
   ]
  },
  {
   "cell_type": "code",
   "execution_count": 7,
   "metadata": {
    "collapsed": false
   },
   "outputs": [
    {
     "data": {
      "text/plain": [
       "HicEstIndex"
      ]
     },
     "execution_count": 7,
     "metadata": {},
     "output_type": "execute_result"
    }
   ],
   "source": [
    "val s = words.foldRight(stringMonoid.zero)(stringMonoid.op)"
   ]
  },
  {
   "cell_type": "code",
   "execution_count": 8,
   "metadata": {
    "collapsed": false
   },
   "outputs": [
    {
     "data": {
      "text/plain": [
       "HicEstIndex"
      ]
     },
     "execution_count": 8,
     "metadata": {},
     "output_type": "execute_result"
    }
   ],
   "source": [
    "val t = words.foldLeft(stringMonoid.zero)(stringMonoid.op)"
   ]
  },
  {
   "cell_type": "markdown",
   "metadata": {},
   "source": [
    "____\n",
    "![](figures/foldStringMonoid2.PNG)"
   ]
  },
  {
   "cell_type": "markdown",
   "metadata": {},
   "source": [
    "### 조금 더 일반화된 함수로 바꿔보자..."
   ]
  },
  {
   "cell_type": "code",
   "execution_count": null,
   "metadata": {
    "collapsed": false
   },
   "outputs": [],
   "source": [
    "def concatenate[A](as: List[A], m: Monoid[A]): A = \n",
    "    as.foldLeft(m.zero)(m.op)"
   ]
  },
  {
   "cell_type": "code",
   "execution_count": 10,
   "metadata": {
    "collapsed": false
   },
   "outputs": [
    {
     "data": {
      "text/plain": [
       "HicEstIndex"
      ]
     },
     "execution_count": 10,
     "metadata": {},
     "output_type": "execute_result"
    }
   ],
   "source": [
    "concatenate(words, stringMonoid)"
   ]
  },
  {
   "cell_type": "markdown",
   "metadata": {},
   "source": [
    "### Monoid 인스턴스가 없는 리스트에도 일반적으로 적용할 수 있을까??\n",
    "=> Monoid 인스턴스가 있는 타입으로 항상 변환할 수가 있다면... 다음과 같은 일반화 함수가 가능.(<font color=\"red\">map() 쓰지 않음!</font>)"
   ]
  },
  {
   "cell_type": "code",
   "execution_count": null,
   "metadata": {
    "collapsed": false
   },
   "outputs": [],
   "source": [
    "def foldMap[A,B](as: List[A], m:Monoid[B])(f: A => B): B =\n",
    "    as.foldLeft(m.zero)((b,a) => m.op(b, f(a)))"
   ]
  },
  {
   "cell_type": "code",
   "execution_count": 25,
   "metadata": {
    "collapsed": false
   },
   "outputs": [
    {
     "data": {
      "text/plain": [
       "List(1, 2, 3)"
      ]
     },
     "execution_count": 25,
     "metadata": {},
     "output_type": "execute_result"
    }
   ],
   "source": [
    "/* Integer Monoid not defined above... */\n",
    "val x = List(1,2,3)"
   ]
  },
  {
   "cell_type": "code",
   "execution_count": 22,
   "metadata": {
    "collapsed": false
   },
   "outputs": [
    {
     "data": {
      "text/plain": [
       "123"
      ]
     },
     "execution_count": 22,
     "metadata": {},
     "output_type": "execute_result"
    }
   ],
   "source": [
    "val foldedX = foldMap(x, stringMonoid)(_.toString())"
   ]
  },
  {
   "cell_type": "markdown",
   "metadata": {},
   "source": [
    "## 10.3. Associativity and parallelism"
   ]
  },
  {
   "cell_type": "markdown",
   "metadata": {},
   "source": [
    "### 평범한 folding\n",
    "\n",
    "```scala\n",
    "op(a, op(b, op(c, d)))\n",
    "```\n",
    "![](figures/ordinaryFold.PNG)\n",
    "\n",
    "###### => 중간에 쓰이지 않고 버려지는 결과가 많음..\n",
    "\n",
    "### \"balanced\" folding\n",
    "\n",
    "```scala\n",
    "op(op(a, b), op(c, d))\n",
    "```\n",
    "\n",
    "#### => 이점: op(a,b)와 op(c,d)를 병렬처리시킬 수 있음.\n",
    "###### \"loremipsum\" + \"dolorsit\""
   ]
  },
  {
   "cell_type": "markdown",
   "metadata": {},
   "source": [
    "## 10.4. Example: Parallel parsing"
   ]
  },
  {
   "cell_type": "markdown",
   "metadata": {},
   "source": [
    "### Monoid homomorphisms(호모모르피즘. 준동형(準同形). 대수적 구조를 보존한다는 의미..)"
   ]
  },
  {
   "cell_type": "markdown",
   "metadata": {},
   "source": [
    "```scala\n",
    "/* 아래에서 length함수는 String => Int로의 함수인데, Monoid 구조를 보존해준다.(뭔말인겨..??) */\n",
    "```"
   ]
  },
  {
   "cell_type": "code",
   "execution_count": 27,
   "metadata": {
    "collapsed": false
   },
   "outputs": [
    {
     "data": {
      "text/plain": [
       "true"
      ]
     },
     "execution_count": 27,
     "metadata": {},
     "output_type": "execute_result"
    }
   ],
   "source": [
    "\n",
    "\"lorem\".length + \"ipsum\".length == (\"lorem\"+\"ipsum\").length"
   ]
  },
  {
   "cell_type": "markdown",
   "metadata": {},
   "source": [
    "## 10.5. Foldable data structures"
   ]
  },
  {
   "cell_type": "markdown",
   "metadata": {},
   "source": [
    "- 'ints'라는 어떤 구조체가 정수들의 집합체라고 가정하면.. 집합체 안의 정수들의 합을 다음과 같이 구할 수 있음.\n",
    "```scala\n",
    "ints.foldRight(0)(_ + _)\n",
    "```\n",
    "- 이때 이 'ints' 구조의 형태가 List인지 Vector인지 Stream인지는 상관하지 않고 쓸 수 있다.\n",
    "- F[\\_]라는 형태로 'type **constructor**'를 구성할 수 있다.\n",
    "- 아래의 Foldable 같은 것을 **_higher-order type constructor_** 또는 **_higher-kinded type_**이라 함."
   ]
  },
  {
   "cell_type": "code",
   "execution_count": null,
   "metadata": {
    "collapsed": false
   },
   "outputs": [],
   "source": [
    "trait Foldable[F[_]] {\n",
    "    def foldRight[A,B](as: F[A])(z: B)(f: (A,B) => B): B\n",
    "    def foldLeft[A,B](as: F[A])(z: B)(f: (B,A) => B): B\n",
    "    def foldMap[A,B](as: F[A])(f: A => B)(mb: Monoid[B]): B\n",
    "    def concatename[A](as: F[A])(m: Monoid[A]): A =\n",
    "        foldLeft(as)(m.zero)(m.op)\n",
    "}"
   ]
  },
  {
   "cell_type": "markdown",
   "metadata": {},
   "source": [
    "## 10.6. Composing Monoids"
   ]
  },
  {
   "cell_type": "markdown",
   "metadata": {},
   "source": [
    "- Monoid의 진정한 파워는 'compose'에서부터...\n",
    "- type A,B가 Monoid면 튜플 (A,B)도 또한 Monoid임."
   ]
  },
  {
   "cell_type": "code",
   "execution_count": null,
   "metadata": {
    "collapsed": false
   },
   "outputs": [],
   "source": [
    "def productMonoid[A,B](A: Monoid[A], B: Monoid[B]): Monoid[(A, B)] =\n",
    "  new Monoid[(A, B)] {\n",
    "    def op(x: (A, B), y: (A, B)) =\n",
    "      (A.op(x._1, y._1), B.op(x._2, y._2))\n",
    "    val zero = (A.zero, B.zero)\n",
    "  }"
   ]
  },
  {
   "cell_type": "markdown",
   "metadata": {},
   "source": [
    "### 10.6.1 Assembling more complex monoids"
   ]
  },
  {
   "cell_type": "markdown",
   "metadata": {},
   "source": [
    "![](figures/mergingMap.PNG)\n",
    "![](figures/mergingMap2.PNG)"
   ]
  },
  {
   "cell_type": "markdown",
   "metadata": {},
   "source": [
    "### 10.6.2. Using composed monoids to fuse traversals"
   ]
  },
  {
   "cell_type": "markdown",
   "metadata": {},
   "source": [
    "- 책의 범위를 넘어가므로 chapter note를 참고하자.. :-P"
   ]
  },
  {
   "cell_type": "markdown",
   "metadata": {},
   "source": [
    "## 10.7. Summary"
   ]
  }
 ],
 "metadata": {
  "kernelspec": {
   "display_name": "Scala 2.11",
   "language": "scala",
   "name": "scala-2.11"
  },
  "language_info": {
   "codemirror_mode": "text/x-scala",
   "file_extension": "scala",
   "mimetype": "text/x-scala",
   "name": "scala"
  }
 },
 "nbformat": 4,
 "nbformat_minor": 0
}
