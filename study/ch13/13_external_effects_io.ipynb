{
 "cells": [
  {
   "cell_type": "markdown",
   "metadata": {},
   "source": [
    "# 13 외부 효과와 입출력"
   ]
  },
  {
   "cell_type": "raw",
   "metadata": {},
   "source": [
    "* 외부 효과(external effect)\n",
    "  - 프로그램 외부에 영향을 미치는 것.\n",
    "  - e.g. 데이터베이스 조회, 파일 입출력."
   ]
  },
  {
   "cell_type": "raw",
   "metadata": {},
   "source": [
    "이번 장의 목적은 입출력과 같은 외부 효과를 순수 함수적 방식으로 처리하는 법을 배우는 것."
   ]
  },
  {
   "cell_type": "raw",
   "metadata": {},
   "source": [
    "IO(InputOutput) 모나드를 개발하여 사용.\n",
    "  => 효과 있는(effectful) 코드를 프로그램의 나머지 부분과 분리하게 해준다.\n",
    "\n",
    "효과 있는 계산의 서술(description)을 순수 함수를 이용해서 계산하고, 그 서술을 개별적인 해석기(interpreter)를\n",
    "이용해서 실행한다."
   ]
  },
  {
   "cell_type": "markdown",
   "metadata": {},
   "source": [
    "## 13.1 효과의 추출"
   ]
  },
  {
   "cell_type": "raw",
   "metadata": {},
   "source": [
    "* side effect를 가진 프로그램"
   ]
  },
  {
   "cell_type": "code",
   "execution_count": 1,
   "metadata": {
    "collapsed": false,
    "scrolled": true
   },
   "outputs": [
    {
     "data": {
      "text/plain": [
       "defined \u001b[32mclass \u001b[36mPlayer\u001b[0m\n",
       "defined \u001b[32mfunction \u001b[36mcontest\u001b[0m"
      ]
     },
     "metadata": {},
     "output_type": "display_data"
    }
   ],
   "source": [
    "case class Player(name: String, score: Int)\n",
    "\n",
    "def contest(p1:Player, p2: Player): Unit = \n",
    "    if (p1.score > p2.score)\n",
    "        println(s\"${p1.name} is the winner!\")\n",
    "    else if (p2.score > p1.score)\n",
    "        println(s\"${p2.name} is the winner!\")\n",
    "    else\n",
    "        println(\"It's a draw.\")"
   ]
  },
  {
   "cell_type": "raw",
   "metadata": {},
   "source": [
    "결과의 표시를 위한 입출력 코드와 승자 결정을 위한 순수 논리가 한데 엮여 있음.\n",
    "  => 분리해보자!\n",
    "  => 승자 계산 논리를 추출해서 순수 함수 winner를 만들자."
   ]
  },
  {
   "cell_type": "code",
   "execution_count": 2,
   "metadata": {
    "collapsed": false
   },
   "outputs": [
    {
     "data": {
      "text/plain": [
       "defined \u001b[32mfunction \u001b[36mwinner\u001b[0m\n",
       "defined \u001b[32mfunction \u001b[36mcontest\u001b[0m"
      ]
     },
     "metadata": {},
     "output_type": "display_data"
    }
   ],
   "source": [
    "def winner(p1: Player, p2: Player): Option[Player] =\n",
    "    if (p1.score > p2.score) Some(p1)\n",
    "    else if (p1.score < p2.score) Some(p2)\n",
    "    else None\n",
    "\n",
    "def contest(p1:Player, p2:Player): Unit = winner(p1, p2) match {\n",
    "    case Some(Player(name, _)) => println(s\"$name is the winner!\")\n",
    "    case None => println(\"It's a draw.\")\n",
    "}"
   ]
  },
  {
   "cell_type": "raw",
   "metadata": {},
   "source": [
    "리팩토링을 더 해보자!\n",
    "\n",
    "contest 함수는 여전히 두 가지 일을 하고 있다.\n",
    "  1. 표시할 메시지를 계산하는 것.   => 이 부분을 순수 함수로 추출하자.\n",
    "  2. 그 메시지를 화면에 출력하는 것."
   ]
  },
  {
   "cell_type": "code",
   "execution_count": 3,
   "metadata": {
    "collapsed": false
   },
   "outputs": [
    {
     "data": {
      "text/plain": [
       "defined \u001b[32mfunction \u001b[36mwinnerMsg\u001b[0m\n",
       "defined \u001b[32mfunction \u001b[36mcontest\u001b[0m"
      ]
     },
     "metadata": {},
     "output_type": "display_data"
    }
   ],
   "source": [
    "def winnerMsg(p: Option[Player]): String = p map {\n",
    "    case Player(name, _) => s\"$name is the winner!\"\n",
    "} getOrElse \"Its' a draw.\"\n",
    "\n",
    "def contest(p1: Player, p2: Player): Unit =\n",
    "    println(winnerMsg(winner(p1, p2)))\n"
   ]
  },
  {
   "cell_type": "markdown",
   "metadata": {},
   "source": [
    "side effect인 println은 이제 프로그램의 최외곽 계층에만 존재한다."
   ]
  },
  {
   "cell_type": "markdown",
   "metadata": {},
   "source": [
    "모든 side effect가 있는 함수 안에는 빠져나오려고 하는 순수 함수가 있다."
   ]
  },
  {
   "cell_type": "raw",
   "metadata": {},
   "source": [
    "# A => B 형식의 impure 함수 f가 있을 때, 이 f를 다음 두 함수로 분할할 수 있다.\n",
    "\n",
    "1. A => D 형식의 순수 함수. D는 f의 결과를 서술(description)하는 어떤 것.\n",
    "\n",
    "2. D => B 형식의 불순(impure) 함수. 서술의 해석기(interpreter)에 해당함.\n",
    "\n",
    "\n",
    "=> 새로운 순수 함수가 만들어지고, 부수 효과들은 점점 더 바깥 계층으로 밀려 나간다."
   ]
  },
  {
   "cell_type": "raw",
   "metadata": {},
   "source": [
    "히지만 contest 함수에서 결국은 println을 호출하는 부분이 남았다. => 어떻게 할 것인가?"
   ]
  },
  {
   "cell_type": "markdown",
   "metadata": {},
   "source": [
    "## 13.2 간단한 입출력 형식"
   ]
  },
  {
   "cell_type": "code",
   "execution_count": 4,
   "metadata": {
    "collapsed": false
   },
   "outputs": [
    {
     "data": {
      "text/plain": [
       "defined \u001b[32mtrait \u001b[36mIO\u001b[0m\n",
       "defined \u001b[32mfunction \u001b[36mPrintLine\u001b[0m\n",
       "defined \u001b[32mfunction \u001b[36mcontest\u001b[0m"
      ]
     },
     "metadata": {},
     "output_type": "display_data"
    }
   ],
   "source": [
    "trait IO { def run: Unit }\n",
    "\n",
    "def PrintLine(msg: String): IO = \n",
    "    new IO { def run = println(msg) }\n",
    "\n",
    "def contest(p1:Player, p2:Player): IO = \n",
    "    PrintLine(winnerMsg(winner(p1, p2)))"
   ]
  },
  {
   "cell_type": "raw",
   "metadata": {},
   "source": [
    "contest 함수는 순수 함수가 되었다!\n",
    "\n",
    "부수 효과를 가지는 것은 IO의 해석기(run 메서드)뿐임."
   ]
  },
  {
   "cell_type": "raw",
   "metadata": {},
   "source": [
    "IO를 확장해보자."
   ]
  },
  {
   "cell_type": "code",
   "execution_count": 2,
   "metadata": {
    "collapsed": false
   },
   "outputs": [
    {
     "name": "stdout",
     "output_type": "stream",
     "text": [
      "aaa\n",
      "aaa\n"
     ]
    },
    {
     "data": {
      "text/plain": [
       "defined \u001b[32mtrait \u001b[36mIO\u001b[0m\n",
       "defined \u001b[32mobject \u001b[36mIO\u001b[0m"
      ]
     },
     "metadata": {},
     "output_type": "display_data"
    }
   ],
   "source": [
    "trait IO { self =>\n",
    "    def run:Unit\n",
    "    def ++(io: IO): IO = new IO {\n",
    "        def run = { self.run; io.run }\n",
    "    }\n",
    "}\n",
    "object IO {\n",
    "    def empty: IO = new IO { def run = () }\n",
    "    def PrintLine(msg: String):IO = new IO { def run = println(msg) }\n",
    "    def PrintLineTwice(msg: String):IO = PrintLine(msg) ++ PrintLine(msg)\n",
    "}\n",
    "\n",
    "IO.PrintLineTwice(\"aaa\").run"
   ]
  },
  {
   "cell_type": "code",
   "execution_count": null,
   "metadata": {
    "collapsed": true
   },
   "outputs": [],
   "source": []
  },
  {
   "cell_type": "raw",
   "metadata": {},
   "source": [
    "IO는 모노이드를 형성한다. (empty는 항등원이고, ++는 결합적 연산이다.)\n",
    "  \n",
    "List[IO]가 있다면 이것을 하나의 IO로 축약할 수 있다.\n",
    "(++가 결합법칙을 따르므로 foldLeft, foldLight를 통해 축약할 수 있음.)"
   ]
  },
  {
   "cell_type": "markdown",
   "metadata": {},
   "source": [
    "### 13.2.1 입력 효과의 처리"
   ]
  },
  {
   "cell_type": "raw",
   "metadata": {},
   "source": [
    "현재의 IO 형식은 '출력' 효과만 표현할 수 있다.\n",
    "\n",
    "사용자에게 화씨 온도를 입력 받아서 섭씨 온도로 변환한 후 출력하는 프로그램을 만들어 보자."
   ]
  },
  {
   "cell_type": "code",
   "execution_count": 17,
   "metadata": {
    "collapsed": false
   },
   "outputs": [
    {
     "data": {
      "text/plain": [
       "defined \u001b[32mfunction \u001b[36mfahrenheitToCelsius\u001b[0m\n",
       "defined \u001b[32mfunction \u001b[36mconverter\u001b[0m"
      ]
     },
     "metadata": {},
     "output_type": "display_data"
    }
   ],
   "source": [
    "def fahrenheitToCelsius(f : Double): Double =\n",
    "    (f - 32) * 5.0/9.0\n",
    "\n",
    "def converter: Unit = {\n",
    "    println(\"Enter a temperature in degrees Fahrenheit: \")\n",
    "    val d = readLine.toDouble\n",
    "    println(fahrenheitToCelsius(d))\n",
    "}"
   ]
  },
  {
   "cell_type": "raw",
   "metadata": {},
   "source": [
    "converter를 IO를 돌려주는 순수 함수로 만들어 보자."
   ]
  },
  {
   "cell_type": "code",
   "execution_count": null,
   "metadata": {
    "collapsed": true
   },
   "outputs": [],
   "source": [
    "def fahrenheitToCelsius(f : Double): Double =\n",
    "    (f - 32) * 5.0/9.0\n",
    "\n",
    "def converter: IO = {\n",
    "    val prompt:IO = PrintLine(\"Enter a temperature in degrees Fahrenheit: \")\n",
    "    // 이제 어떻게 할까???\n",
    "}"
   ]
  },
  {
   "cell_type": "raw",
   "metadata": {},
   "source": [
    "readLine 호출을 IO로 감쌀 수는 있지만, 그 결과를 넣을 곳이 없다!\n",
    "\n",
    "현재의 IO 형식은 어떤 의미 있는 형식의 값을 산출하는(yield) 계산을 표현 할 수 없다."
   ]
  },
  {
   "cell_type": "code",
   "execution_count": 18,
   "metadata": {
    "collapsed": false
   },
   "outputs": [
    {
     "data": {
      "text/plain": [
       "defined \u001b[32mtrait \u001b[36mIO\u001b[0m"
      ]
     },
     "metadata": {},
     "output_type": "display_data"
    }
   ],
   "source": [
    "sealed trait IO[A] { self =>\n",
    "    def run: A\n",
    "    def map[B](f: A => B): IO[B] = new IO[B] { def run = f(self.run) }\n",
    "    def flatMap[B](f: A => IO[B]): IO[B] = new IO[B] { def run = f(self.run).run }\n",
    "}"
   ]
  },
  {
   "cell_type": "raw",
   "metadata": {},
   "source": [
    "IO 계산이 의미 있는 값을 돌려줌.\n",
    "map과 flatMap 함수 추가.\n",
    "\n",
    "=> IO는 모나드."
   ]
  },
  {
   "cell_type": "code",
   "execution_count": null,
   "metadata": {
    "collapsed": true
   },
   "outputs": [],
   "source": [
    "object IO extends Monad[IO] {\n",
    "    def unit[A](a: => A): IO[A] = new IO[A] { def run = a }\n",
    "    def flatMap[A,B](fa: IO[A])(f: A => IO[B]) = fa flatMap f\n",
    "    def apply[A](a: => A): IO[A] = unit(a)\n",
    "}"
   ]
  },
  {
   "cell_type": "code",
   "execution_count": null,
   "metadata": {
    "collapsed": true
   },
   "outputs": [],
   "source": [
    "def ReadLine: IO[String] = IO { readLine }\n",
    "def PrintLine(msg: String): IO[Unit] = IO { print(msg) }\n",
    "\n",
    "def converter: IO[Unit] = for {\n",
    "    _ <- PrintLine(\"Enter a temperature in degrees Fahrenheit: \")\n",
    "    d <- ReadLine.map(_.toDouble)\n",
    "    _ <- PrintLine(fahrenheitToCelsius(d).toString)\n",
    "} yield ()"
   ]
  },
  {
   "cell_type": "raw",
   "metadata": {},
   "source": [
    "이제 converter 정의에 부수 효과가 없다.\n",
    "converter.run은 효과를 실제로 실행할 해석기이다."
   ]
  },
  {
   "cell_type": "code",
   "execution_count": null,
   "metadata": {
    "collapsed": true
   },
   "outputs": [],
   "source": [
    "아래와 같이 응용할 수 있다.\n",
    "\n",
    "val echo = ReadLine.flatMap(PrintLine)\n",
    "  => 콘솔에서 입력 한 줄을 읽어서 그대로 출력하는 IO[Unit]\n",
    "\n",
    "val readInt = ReadLine.map(_.toInt)\n",
    "  => 콘솔에서 입력 한 줄을 읽어서 Int 하나를 파싱하는 IO[Int]\n",
    "\n"
   ]
  },
  {
   "cell_type": "markdown",
   "metadata": {},
   "source": [
    "### 13.2.2 단순한 IO 형식의 장단점"
   ]
  },
  {
   "cell_type": "raw",
   "metadata": {},
   "source": [
    "IO 모나드의 용법은,\n",
    "순수 코드와 불순 코드를 명확히 분리함으로써 외부 세계와의 상호작용이 일어나는 지점을 명시적으로 드러낸다."
   ]
  },
  {
   "cell_type": "raw",
   "metadata": {},
   "source": [
    "## 장점 ##\n",
    "IO 계산은 보통의 값이다. 즉 IO 계산을 목록에 저장하고, 함수에 넘겨주고, 동적으로 생성하는 등의 작업이 가능하다.\n",
    "\n",
    "IO 계산을 값으로서 구체화한다는 것은 IO 형식 자체에 박혀 있는 단순한 run 메서드 보다 흥미로운 해석기를 만들 수 있음을 의미한다.\n",
    "\n",
    "다양한 해석기들을 만들어 낸다고 해도 converter 예제 같은 클라이언트 코드는 수정하지 않아도 된다.\n",
    "\n",
    "\n",
    "## 단점 ##\n",
    "실행시점에 호출 스택이 넘쳐서 StackOverflow Error가 발생할 수 있다.\n",
    "\n",
    "IO[A] 형식의 값은 완전히 불투명하다. IO는 너무 일반적이며, 추론할 수 있는 것이 별로 없다.\n",
    "(프로그래머가 동작을 예측할 수 없다는 의미 인듯....)\n",
    "\n",
    "동시성이나 비동기적 연산을 지원하지 않는다."
   ]
  }
 ],
 "metadata": {
  "kernelspec": {
   "display_name": "Scala 2.10",
   "language": "scala210",
   "name": "scala210"
  },
  "language_info": {
   "codemirror_mode": "text/x-scala",
   "file_extension": "scala",
   "mimetype": "text/x-scala",
   "name": "scala210",
   "pygments_lexer": "scala",
   "version": "2.10.5"
  }
 },
 "nbformat": 4,
 "nbformat_minor": 0
}
