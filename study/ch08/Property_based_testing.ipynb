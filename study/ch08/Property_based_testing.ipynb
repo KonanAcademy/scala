{
 "cells": [
  {
   "cell_type": "markdown",
   "metadata": {},
   "source": [
    "# 8 속성 기반 검사"
   ]
  },
  {
   "cell_type": "markdown",
   "metadata": {},
   "source": [
    "* 속성 기반 검사?? 그냥 스칼라에서 어떤 식으로 테스트 케이스를 만들고 활용하는지에 대한 설명\n",
    "* 프로그래머가 테스트 방식을 명시하면, 프레임워크에서는 자동으로 테스트 케이스를 생성하고, 해당 케이스를 동작시켜서 프로그램이 잘 동작하는지를 테스트 해 준다."
   ]
  },
  {
   "cell_type": "markdown",
   "metadata": {},
   "source": [
    "## 8.1 ScalaCheck"
   ]
  },
  {
   "cell_type": "markdown",
   "metadata": {},
   "source": [
    "* 유명한 스칼라 테스트 라이브러리"
   ]
  },
  {
   "cell_type": "code",
   "execution_count": null,
   "metadata": {
    "collapsed": true
   },
   "outputs": [],
   "source": [
    "val intList = Gen.listOf(Gen.choose(0,100))\n",
    "val prop = forAll(intList)(l => l.reserse.reverse == l) && forAll(intList)(l => l.headOption == l.reverse.lastOption)\n",
    "val failingProp = forAll(intList)(l => l.reverse == l)"
   ]
  },
  {
   "cell_type": "code",
   "execution_count": null,
   "metadata": {
    "collapsed": true
   },
   "outputs": [],
   "source": [
    "prop.check\n",
    "failingProp.check"
   ]
  },
  {
   "cell_type": "markdown",
   "metadata": {},
   "source": [
    "* test case minimization - 테스트가 실패하면 실패한 경우에 대해 가장 작은 경우에 도달할 때까지 테스트를 지속한다.\n",
    "* exhausive test case generation - Gen이 생성할 수 있는 모든 경우에 대해 전수 검사를 실시할 수가 있다.(전수량이 작을 경우). 이를 통해 모든 경우에 대한 테스트가 성공이라는 것을 증명 할 수가 있다."
   ]
  },
  {
   "cell_type": "markdown",
   "metadata": {},
   "source": [
    "## 8.2 실제로 설계를 해보자"
   ]
  },
  {
   "cell_type": "markdown",
   "metadata": {},
   "source": [
    "* 일단 우리가 구현해야 할 것은, intList와 prop\n",
    "* intList의 경우 Gen[List[Int]] 형태의 값을 리턴한다.\n",
    "* 형에 구현받지 않게 하기 위해 Gen[List[A]] 형태로 바꿔보자.\n",
    "* def listOf[A](a: Gen[A]): Gen[List[A]]\n",
    "* 크기를 입력받는 함수 또한 추가하자.\n",
    "* def listOfN[A](n: Int, a: Gen[A]): Gen[List[A]]\n",
    "\n",
    "* forAll의 경우도 아래와 같음을 확인하자\n",
    "* def forAll[A](a: Gen[A])(f: A => Boolean):Prop\n",
    "* Prop??"
   ]
  },
  {
   "cell_type": "markdown",
   "metadata": {},
   "source": [
    "### Prop에 대해 자세히 알아보자"
   ]
  },
  {
   "cell_type": "markdown",
   "metadata": {},
   "source": [
    "* forAll의 결과 값으로 Prop가 리턴됨을 확인할 수가 있다.\n",
    "* Prop가 무엇인지는 잘 모르겠지만 check 함수와, && 연산자가 필요하단 것은 확실하다."
   ]
  },
  {
   "cell_type": "code",
   "execution_count": null,
   "metadata": {
    "collapsed": true
   },
   "outputs": [],
   "source": [
    "trait Prop {\n",
    "    def check: Unit\n",
    "    def &&(p: Prop): Prop = { .... }\n",
    "}"
   ]
  },
  {
   "cell_type": "markdown",
   "metadata": {},
   "source": [
    "* Prop에서 &&연산자를 사용하기 위해서는 check의 결과 값을 통해 무언가를 확인할 수가 있어야 한다. (쉽게 말해서 true, false)\n",
    "* 하지만 Boolean만으로는 부족한 추가적인 정보도 결과 값으로 제공하고 싶다. 가령 성공한 테스트 개수"
   ]
  },
  {
   "cell_type": "code",
   "execution_count": null,
   "metadata": {
    "collapsed": true
   },
   "outputs": [],
   "source": [
    "object Prop{\n",
    "    type SuccessCount = Int\n",
    "}\n",
    "trait Prop { def check: Either[???, SuccessCount]}"
   ]
  },
  {
   "cell_type": "markdown",
   "metadata": {},
   "source": [
    "* 실패의 경우에는 Either Left에 실패 메시지와 실패전까지의 성공 개수를 써주자."
   ]
  },
  {
   "cell_type": "code",
   "execution_count": null,
   "metadata": {
    "collapsed": true
   },
   "outputs": [],
   "source": [
    "object Prop{\n",
    "    type FailedCase = String\n",
    "    type SuccessCount = Int\n",
    "}\n",
    "\n",
    "trait Prop {\n",
    "    def check: Either[(FailedCase, SuccessCount), SuccessCount]\n",
    "}"
   ]
  },
  {
   "cell_type": "markdown",
   "metadata": {},
   "source": [
    "*  Prop를 좀더 다듬어보자. 몇개의 테스트가 성공해야 최종 성공했다는 판단을 할 것인지..."
   ]
  },
  {
   "cell_type": "code",
   "execution_count": null,
   "metadata": {
    "collapsed": true
   },
   "outputs": [],
   "source": [
    "type TestCases = Int\n",
    "type Result = Either[(FailedCase, SuccessCount), SuccessCount]\n",
    "case class Prop(run: TestCases => Result)"
   ]
  },
  {
   "cell_type": "markdown",
   "metadata": {},
   "source": [
    "* Either도 한번 살펴보자.. Either right가 과연 필요한가?? option으로 바꿔도 되지 않을까?"
   ]
  },
  {
   "cell_type": "code",
   "execution_count": null,
   "metadata": {
    "collapsed": true
   },
   "outputs": [],
   "source": [
    "type Result = Option[(FailedCase, SuccessCount)]\n",
    "case class Prop(run: TestCases => Result)"
   ]
  },
  {
   "cell_type": "markdown",
   "metadata": {},
   "source": [
    "* 의미상으로 조금 이상하지만 Result가 None일 경우에는 Test 성공, Some이 나오면 Test 실패로 간주하면 된다. 문맥상 이상할 수 있으니 아래와 같이 바꿔보자"
   ]
  },
  {
   "cell_type": "code",
   "execution_count": null,
   "metadata": {
    "collapsed": true
   },
   "outputs": [],
   "source": [
    "sealed trait Result {\n",
    "    def isFalsified: Boolean\n",
    "}\n",
    "case object Passed extends Result{\n",
    "    def isFalsified = false\n",
    "}\n",
    "case class Falsified(failure: FailCase, successes: SuccessCount) extends Result{\n",
    "    def isFalsified = true\n",
    "}"
   ]
  },
  {
   "cell_type": "markdown",
   "metadata": {},
   "source": [
    "* 전체 검수 검사 개수와 함께 테스트 범위도 파라미터로 필요하다."
   ]
  },
  {
   "cell_type": "code",
   "execution_count": null,
   "metadata": {
    "collapsed": true
   },
   "outputs": [],
   "source": [
    "case class Prop(run: (TestCases,RNG) => Result)"
   ]
  },
  {
   "cell_type": "code",
   "execution_count": null,
   "metadata": {
    "collapsed": true
   },
   "outputs": [],
   "source": [
    "def forAll[A](as: Gen[A])(f: A => Boolean): Prop = Prop {\n",
    "    (n,rng) => randomStream(as)(rng).zip(Stream.from(0)).take(n).map{\n",
    "        case(a, i) => try{\n",
    "            if (f(a)) Passed else Falsified(a.toString, i)\n",
    "        }catch{case e: Exception => Falsified(buildMsg(a,e), i)}\n",
    "    }.find(_.isFalsified).getOrElse(Passed)\n",
    "}\n",
    "\n",
    "def randomStream[A](g: Gen[A])(rng:RNG):Stream[A] = {\n",
    "    Stream.unfold(rng)(rng => Some(g.sample.run(rng)))\n",
    "}\n",
    "\n",
    "def buildMsg[A](s: A, e: Exception): String = {\n",
    "    s\"test case: $s\\n\" +\n",
    "    s\"generated an exception: ${e.getMessage}\\n\" +\n",
    "    s\"stack trace:\\n ${e.getStackTrace.mkString(\"\\n\")}\"\n",
    "}\n"
   ]
  },
  {
   "cell_type": "markdown",
   "metadata": {},
   "source": [
    "## 8.3 Test case 최소화"
   ]
  },
  {
   "cell_type": "markdown",
   "metadata": {},
   "source": [
    "* Test case를 최소화 하는 방법에는 두 가지가 있다.\n",
    "* shrinking - 실패한 테스트가 나왔다면 그 테스트 크기를 점차 줄여나감으로써 범위를 줄이는 방법. ScalaCheck의 경우 이 방식을 사용한다.\n",
    "* sized generation - 처음부터 다양한 크기의 테스트 케이스를 생성하여 테스트 하는 방식."
   ]
  },
  {
   "cell_type": "code",
   "execution_count": null,
   "metadata": {
    "collapsed": true
   },
   "outputs": [],
   "source": [
    "case class SGen[+A](forSize: Int => Gen[A])\n",
    "def forAll[A](g:SGen[A])(f:A=>Boolean):Prop"
   ]
  },
  {
   "cell_type": "code",
   "execution_count": null,
   "metadata": {
    "collapsed": true
   },
   "outputs": [],
   "source": [
    "* 위의 방식으로는 SGen을 사용할 수가 없다. Prop 에 Sgen에 대한 최대 크기를 정의를 해주어야 한다."
   ]
  },
  {
   "cell_type": "code",
   "execution_count": null,
   "metadata": {
    "collapsed": true
   },
   "outputs": [],
   "source": [
    "type MaxSize = Int\n",
    "case class Prop(run: (MaxSize, TestCases, RNG) => Result)\n",
    "\n",
    "def forAll[A](g: Sgen[A])(f: A => Boolean): Prop = forAll(g(_))(f)\n",
    "\n",
    "def forAll[A](g: Int => Gen[A])(f: A => Boolean): Prop = Prop {\n",
    "    (max, n, rng) =>\n",
    "    val casesPerSize = (n + (max -1)) / max\n",
    "    val props: Stream[Prop] = Stream.from(0).take((n min max) + 1).map(i => forAll(g(i))(f))\n",
    "    val prop: Prop = props.map(p => Prop{ (max, _, rng) => p.run(max, casesPerSize, rng)}).toList.reduce(_ && _)\n",
    "    prop.run(max,n, rng)\n",
    "}"
   ]
  }
 ],
 "metadata": {
  "kernelspec": {
   "display_name": "Scala 2.11",
   "language": "scala211",
   "name": "scala211"
  },
  "language_info": {
   "codemirror_mode": "text/x-scala",
   "file_extension": "scala",
   "mimetype": "text/x-scala",
   "name": "scala211",
   "pygments_lexer": "scala",
   "version": "2.11.6"
  }
 },
 "nbformat": 4,
 "nbformat_minor": 0
}
