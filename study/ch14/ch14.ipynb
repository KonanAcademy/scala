{
 "cells": [
  {
   "cell_type": "markdown",
   "metadata": {},
   "source": [
    "#Chapter 14. Local effects and mutable state"
   ]
  },
  {
   "cell_type": "markdown",
   "metadata": {},
   "source": [
    "### _more mature concept of 'referential transparency'_"
   ]
  },
  {
   "cell_type": "markdown",
   "metadata": {},
   "source": [
    "## 14.1. Purely functional mutable state"
   ]
  },
  {
   "cell_type": "markdown",
   "metadata": {},
   "source": [
    "- 순수 FP에서는 mutable state를 허용하지 않는다고 생각해 왔지만, 사실은 그렇지 않다!\n",
    "- \"참조 투명성\"의 정의부터 살펴보자.\n",
    "#### \"참조 투명성(referential transparency)\"의 정의\n",
    "  * **어떠한 표현식 _e_가 프로그램 _p_안에서 쓰일 때,**\n",
    "  * **모든 _e_가 나오는 부분을 _e_의 평가결과 값으로 교체해도 **\n",
    "  * **_p_의 전체 의미가 달라지지 않을 때 _e_를 참조(에 대해) 투명하다고 한다.**\n",
    "    * **모든 참조 투명한 x값에 대해 어떤 함수 f(x)가 참조 투명하면 f를 순수(pure)하다고 한다.**"
   ]
  },
  {
   "cell_type": "markdown",
   "metadata": {},
   "source": [
    " * **_pure_**한 quicksort 함수 정의"
   ]
  },
  {
   "cell_type": "code",
   "execution_count": 6,
   "metadata": {
    "collapsed": false
   },
   "outputs": [
    {
     "data": {
      "text/plain": []
     },
     "execution_count": 6,
     "metadata": {},
     "output_type": "execute_result"
    }
   ],
   "source": [
    "def quicksort(xs: List[Int]): List[Int] = if (xs.isEmpty) xs else {\n",
    "    /* list => mutable array (swap, partitioning) => list */\n",
    "    val arr = xs.toArray\n",
    "    def swap(x: Int, y: Int) = {\n",
    "      val tmp = arr(x)\n",
    "      arr(x) = arr(y)\n",
    "      arr(y) = tmp\n",
    "    }\n",
    "    def partition(l: Int, r: Int, pivot: Int) = {\n",
    "      val pivotVal = arr(pivot)\n",
    "      swap(pivot, r)\n",
    "      var j = l\n",
    "      for (i <- l until r) if (arr(i) < pivotVal) {\n",
    "        swap(i, j)\n",
    "        j += 1\n",
    "      }\n",
    "      swap(j, r)\n",
    "      j\n",
    "    }\n",
    "    def qs(l: Int, r: Int): Unit = if (l < r) {\n",
    "      val pi = partition(l, r, l + (r - l) / 2)\n",
    "      qs(l, pi - 1)\n",
    "      qs(pi + 1, r)\n",
    "    }\n",
    "    qs(0, arr.length - 1)\n",
    "    arr.toList\n",
    "  }"
   ]
  },
  {
   "cell_type": "code",
   "execution_count": 11,
   "metadata": {
    "collapsed": false
   },
   "outputs": [
    {
     "name": "stdout",
     "output_type": "stream",
     "text": []
    },
    {
     "data": {
      "text/plain": [
       "List(3, 1, 2, 5, 7, 9, 0, 4, 8, 6)"
      ]
     },
     "execution_count": 11,
     "metadata": {},
     "output_type": "execute_result"
    },
    {
     "name": "stderr",
     "output_type": "stream",
     "text": []
    }
   ],
   "source": [
    "val mylist = List(3,1,2,5,7,9,0,4,8,6)"
   ]
  },
  {
   "cell_type": "code",
   "execution_count": 13,
   "metadata": {
    "collapsed": false
   },
   "outputs": [
    {
     "data": {
      "text/plain": [
       "List(0, 1, 2, 3, 4, 5, 6, 7, 8, 9)"
      ]
     },
     "execution_count": 13,
     "metadata": {},
     "output_type": "execute_result"
    }
   ],
   "source": [
    "quicksort(mylist)"
   ]
  },
  {
   "cell_type": "code",
   "execution_count": 14,
   "metadata": {
    "collapsed": false
   },
   "outputs": [
    {
     "data": {
      "text/plain": [
       "List(3, 1, 2, 5, 7, 9, 0, 4, 8, 6)"
      ]
     },
     "execution_count": 14,
     "metadata": {},
     "output_type": "execute_result"
    }
   ],
   "source": [
    "mylist"
   ]
  },
  {
   "cell_type": "markdown",
   "metadata": {},
   "source": [
    "<img src=\"files/imgs/01.png\">"
   ]
  },
  {
   "cell_type": "markdown",
   "metadata": {},
   "source": [
    "##14.2. A data type to enforce scoping of side effects"
   ]
  },
  {
   "cell_type": "markdown",
   "metadata": {},
   "source": [
    "- quicksort() 함수에서 입력 리스트를 직접 바꿀 수도 있었을 것이다. 그랬다면 외부에서 side effect 관찰 가능.\n",
    "- 스칼라의 타입시스템을 활용해서 side-effect의 스코프를 (local로) 강제하는 데이터 타입을 만들어보자.\n",
    "  * **_성능과 표기상의 편의를 생각하면 이런 짓을 하는 비용이 크다. 쓸지 말지는 알아서 결정할 것.._**"
   ]
  },
  {
   "cell_type": "markdown",
   "metadata": {},
   "source": [
    "###14.2.1. A little language for scoped mutation"
   ]
  },
  {
   "cell_type": "markdown",
   "metadata": {},
   "source": [
    "- State[S,A] 모나드\n",
    "  - mutable state를 다루기 편한 타입임.\n",
    "  - S => (A,S) 함수였음을 기억할 것.\n",
    "  - "
   ]
  },
  {
   "cell_type": "code",
   "execution_count": null,
   "metadata": {
    "collapsed": true
   },
   "outputs": [],
   "source": []
  }
 ],
 "metadata": {
  "kernelspec": {
   "display_name": "Scala 2.11",
   "language": "scala",
   "name": "scala-2.11"
  },
  "language_info": {
   "codemirror_mode": "text/x-scala",
   "file_extension": "scala",
   "mimetype": "text/x-scala",
   "name": "scala"
  }
 },
 "nbformat": 4,
 "nbformat_minor": 0
}
