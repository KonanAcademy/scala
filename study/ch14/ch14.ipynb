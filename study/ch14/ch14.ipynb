{
 "cells": [
  {
   "cell_type": "markdown",
   "metadata": {},
   "source": [
    "#Chapter 14. Local effects and mutable state"
   ]
  },
  {
   "cell_type": "markdown",
   "metadata": {},
   "source": [
    "### _more mature concept of 'referential transparency'_"
   ]
  },
  {
   "cell_type": "markdown",
   "metadata": {},
   "source": [
    "## 14.1. Purely functional mutable state"
   ]
  },
  {
   "cell_type": "markdown",
   "metadata": {},
   "source": [
    "- 순수 FP에서는 mutable state를 허용하지 않는다고 생각해 왔지만, 사실은 그렇지 않다!\n",
    "- \"참조 투명성\"의 정의부터 살펴보자.\n",
    "#### \"참조 투명성(referential transparency)\"의 정의\n",
    "  * **어떠한 표현식 _e_가 프로그램 _p_안에서 쓰일 때,**\n",
    "  * **모든 _e_가 나오는 부분을 _e_의 평가결과 값으로 교체해도 **\n",
    "  * **_p_의 전체 의미가 달라지지 않을 때 _e_를 참조(에 대해) 투명하다고 한다.**\n",
    "    * **모든 참조 투명한 x값에 대해 어떤 함수 f(x)가 참조 투명하면 f를 순수(pure)하다고 한다.**"
   ]
  },
  {
   "cell_type": "markdown",
   "metadata": {},
   "source": [
    " * **_pure_**한 quicksort 함수 정의"
   ]
  },
  {
   "cell_type": "code",
   "execution_count": 21,
   "metadata": {
    "collapsed": false
   },
   "outputs": [
    {
     "data": {
      "text/plain": []
     },
     "execution_count": 21,
     "metadata": {},
     "output_type": "execute_result"
    }
   ],
   "source": [
    "def quicksort(xs: List[Int]): List[Int] = if (xs.isEmpty) xs else {\n",
    "    /* list => mutable array (swap, partitioning) => list */\n",
    "    val arr = xs.toArray\n",
    "    def swap(x: Int, y: Int) = {\n",
    "      val tmp = arr(x)\n",
    "      arr(x) = arr(y)\n",
    "      arr(y) = tmp\n",
    "    }\n",
    "    def partition(l: Int, r: Int, pivot: Int) = {\n",
    "      val pivotVal = arr(pivot)\n",
    "      swap(pivot, r)\n",
    "      var j = l\n",
    "      for (i <- l until r) if (arr(i) < pivotVal) {\n",
    "        swap(i, j)\n",
    "        j += 1\n",
    "      }\n",
    "      swap(j, r)\n",
    "      j\n",
    "    }\n",
    "    def qs(l: Int, r: Int): Unit = if (l < r) {\n",
    "      val pi = partition(l, r, l + (r - l) / 2)\n",
    "      qs(l, pi - 1)\n",
    "      qs(pi + 1, r)\n",
    "    }\n",
    "    qs(0, arr.length - 1)\n",
    "    arr.toList\n",
    "  }"
   ]
  },
  {
   "cell_type": "code",
   "execution_count": 22,
   "metadata": {
    "collapsed": false
   },
   "outputs": [
    {
     "data": {
      "text/plain": [
       "List(3, 1, 2, 5, 7, 9, 0, 4, 8, 6)"
      ]
     },
     "execution_count": 22,
     "metadata": {},
     "output_type": "execute_result"
    }
   ],
   "source": [
    "val mylist = List(3,1,2,5,7,9,0,4,8,6)"
   ]
  },
  {
   "cell_type": "code",
   "execution_count": 23,
   "metadata": {
    "collapsed": false
   },
   "outputs": [
    {
     "data": {
      "text/plain": [
       "List(0, 1, 2, 3, 4, 5, 6, 7, 8, 9)"
      ]
     },
     "execution_count": 23,
     "metadata": {},
     "output_type": "execute_result"
    }
   ],
   "source": [
    "quicksort(mylist)"
   ]
  },
  {
   "cell_type": "code",
   "execution_count": 24,
   "metadata": {
    "collapsed": false
   },
   "outputs": [
    {
     "data": {
      "text/plain": [
       "List(3, 1, 2, 5, 7, 9, 0, 4, 8, 6)"
      ]
     },
     "execution_count": 24,
     "metadata": {},
     "output_type": "execute_result"
    }
   ],
   "source": [
    "mylist"
   ]
  },
  {
   "cell_type": "markdown",
   "metadata": {},
   "source": [
    "<img src=\"files/imgs/01.png\" align=\"left\" style=\"border:1px solid blue;\">"
   ]
  },
  {
   "cell_type": "markdown",
   "metadata": {},
   "source": [
    "##14.2. A data type to enforce scoping of side effects"
   ]
  },
  {
   "cell_type": "markdown",
   "metadata": {},
   "source": [
    "- quicksort() 함수에서 입력 리스트를 직접 바꿀 수도 있었을 것이다. 그랬다면 외부에서 side effect 관찰 가능.\n",
    "- 스칼라의 타입시스템을 활용해서 side-effect의 스코프를 (local로) 강제하는 데이터 타입을 만들어보자.\n",
    "  * **_성능과 표기상의 편의를 생각하면 이런 짓을 하는 비용이 크다. 쓸지 말지는 알아서 결정할 것.._**"
   ]
  },
  {
   "cell_type": "markdown",
   "metadata": {},
   "source": [
    "###14.2.1. A little language for scoped mutation"
   ]
  },
  {
   "cell_type": "markdown",
   "metadata": {
    "collapsed": true
   },
   "source": [
    "- 새로운 데이터 타입을 이용해서 mutation을 발생시키는 경우 보장되어야 할 점.\n",
    "  - mutable object에 대한 참조를 들고 있는 경우, 외부에서는 우리가 mutation시키는 것을 알 수 없어야 함.\n",
    "  - mutable object는 그것이 생성된 스코프를 벗어나는 경우 절대 참조될 수 없어야 함."
   ]
  },
  {
   "cell_type": "markdown",
   "metadata": {},
   "source": [
    "- State[S,A] 모나드\n",
    "  - mutable state를 다루기 편한 타입임.\n",
    "  - S => (A,S) 형식의 함수였음을 기억할 것."
   ]
  },
  {
   "cell_type": "markdown",
   "metadata": {},
   "source": [
    "- ST(State Token) 모나드\n",
    "  - 'S'라는 것은 상태 변경(mutation)을 할 수 있다는 토큰임."
   ]
  },
  {
   "cell_type": "code",
   "execution_count": 25,
   "metadata": {
    "collapsed": false
   },
   "outputs": [
    {
     "data": {
      "text/plain": []
     },
     "execution_count": 25,
     "metadata": {},
     "output_type": "execute_result"
    }
   ],
   "source": [
    "sealed trait ST[S,A] { self =>\n",
    "  protected def run(s: S): (A,S)\n",
    "  def map[B](f: A => B): ST[S,B] = new ST[S,B] {\n",
    "    def run(s: S) = {\n",
    "      val (a, s1) = self.run(s)\n",
    "      (f(a), s1)\n",
    "    }\n",
    "  }\n",
    "  def flatMap[B](f: A => ST[S,B]): ST[S,B] = new ST[S,B] {\n",
    "    def run(s: S) = {\n",
    "      val (a, s1) = self.run(s)\n",
    "      f(a).run(s1)\n",
    "    }\n",
    "  }\n",
    "}\n",
    "\n",
    "// below is for 14.2.3. elsewhere generates err...\n",
    "object ST {\n",
    "  def apply[S,A](a: => A) = {\n",
    "    lazy val memo = a\n",
    "    new ST[S,A] {\n",
    "      def run(s: S) = (memo, s)\n",
    "    }\n",
    "  }\n",
    "  def runST[A](st: RunnableST[A]): A =\n",
    "    st[Null].run(null)._1\n",
    "}\n",
    "\n",
    "trait RunnableST[A] {\n",
    "  def apply[S]: ST[S,A]\n",
    "}"
   ]
  },
  {
   "cell_type": "markdown",
   "metadata": {
    "collapsed": true
   },
   "source": [
    "###14.2.2. An algebra of mutable references"
   ]
  },
  {
   "cell_type": "markdown",
   "metadata": {},
   "source": [
    "- mutable memory cells\n",
    "  - new mutable cell 할당\n",
    "  - mutable cell에 쓰기\n",
    "  - mutable cell 읽기"
   ]
  },
  {
   "cell_type": "markdown",
   "metadata": {},
   "source": [
    "- protected var에 대한 wrapper"
   ]
  },
  {
   "cell_type": "code",
   "execution_count": 26,
   "metadata": {
    "collapsed": false
   },
   "outputs": [
    {
     "data": {
      "text/plain": []
     },
     "execution_count": 26,
     "metadata": {},
     "output_type": "execute_result"
    }
   ],
   "source": [
    "sealed trait STRef[S,A] {\n",
    "  protected var cell: A\n",
    "  def read: ST[S,A] = ST(cell)\n",
    "  def write(a: => A): ST[S,Unit] = new ST[S,Unit] {\n",
    "    def run(s: S) = {\n",
    "      cell = a\n",
    "      ((), s)\n",
    "    }\n",
    "  }\n",
    "}\n",
    "\n",
    "object STRef {\n",
    "  def apply[S,A](a: A): ST[S, STRef[S,A]] = ST(new STRef[S,A] {\n",
    "    var cell = a\n",
    "  })\n",
    "}"
   ]
  },
  {
   "cell_type": "markdown",
   "metadata": {},
   "source": [
    "- 'S'는 cell 변수의 타입도 아니고, 실제로 쓰이지도 않지만 상태 변경을 위해서는 반드시 'S' 타입의 값을 제공해야 한다.\n",
    "- 이런 의미에서 'S'를 mutation을 허가할 수 있는 일종의 '토큰'으로 생각할 수 있음."
   ]
  },
  {
   "cell_type": "markdown",
   "metadata": {
    "collapsed": true
   },
   "source": [
    "````\n",
    "for {   \n",
    "    r1 <- STRef[Nothing,Int](1)   \n",
    "    r2 <- STRef[Nothing,Int](1)   \n",
    "    x <- r1.read   \n",
    "    y <- r2.read   \n",
    "    _ <- r1.write(y+1)   \n",
    "    _ <- r2.write(x+1)   \n",
    "    a <- r1.read\n",
    "    b <- r2.read\n",
    "} yield(a,b)\n",
    "\n",
    "// 아직 동작하지 않음..(run()이 여전히 protected이고, Nothing으로는 '값'을 전달할 수 없으므로..라고 책에선 얘기함..)\n",
    "````"
   ]
  },
  {
   "cell_type": "markdown",
   "metadata": {},
   "source": [
    "###14.2.3. Running mutable state actions"
   ]
  },
  {
   "cell_type": "markdown",
   "metadata": {},
   "source": [
    "- ST로부터 STRef를 바로 접근할 수 없음을 보장해야 한다.\n",
    "````\n",
    "  * ST[S, STRef[S, Int]] (not safe to run)\n",
    "  * ST[S, Int] (completely safe to run)  => var쪽에 type S가 개입되지 않기 때문...\n",
    "````\n",
    "- **ST[S, T]에서 T가 S타입을 관여시키는 타입이면 ST를 실행할 수 없게 하자..**\n",
    "  - 왜냐하면, ST에서 STRef를 바로 꺼낼 수 있으면 내부 mutable object에 접근하게 할 수도 있으므로.."
   ]
  },
  {
   "cell_type": "code",
   "execution_count": 36,
   "metadata": {
    "collapsed": false
   },
   "outputs": [
    {
     "data": {
      "text/plain": [
       "cmd32$$anon$1@ecd86ae"
      ]
     },
     "execution_count": 36,
     "metadata": {},
     "output_type": "execute_result"
    }
   ],
   "source": [
    "val p = new RunnableST[(Int, Int)] {   \n",
    "    def apply[S] = for {     \n",
    "        r1 <- STRef(1)     \n",
    "        r2 <- STRef(2)     \n",
    "        x <- r1.read     \n",
    "        y <- r2.read     \n",
    "        _ <- r1.write(y+1)     \n",
    "        _ <- r2.write(x+1)     \n",
    "        a <- r1.read     \n",
    "        b <- r2.read   \n",
    "    } yield (a,b) \n",
    "}"
   ]
  },
  {
   "cell_type": "code",
   "execution_count": 37,
   "metadata": {
    "collapsed": false
   },
   "outputs": [
    {
     "data": {
      "text/plain": [
       "(3,2)"
      ]
     },
     "execution_count": 37,
     "metadata": {},
     "output_type": "execute_result"
    },
    {
     "name": "stdout",
     "output_type": "stream",
     "text": []
    }
   ],
   "source": [
    "val r = ST.runST(p)"
   ]
  },
  {
   "cell_type": "markdown",
   "metadata": {},
   "source": [
    "- 아래처럼 바로 STRef를 접근해서 쓰려는 경우는 type system에 의해서 에러가 난다."
   ]
  },
  {
   "cell_type": "code",
   "execution_count": 38,
   "metadata": {
    "collapsed": false
   },
   "outputs": [
    {
     "ename": "",
     "evalue": "",
     "output_type": "error",
     "traceback": [
      "Compilation Failed",
      "\u001b[31mMain.scala:35: type mismatch;",
      " found   : cmd22.ST[S,cmd23.STRef[S,Int]]",
      " required: cmd22.ST[S,cmd23.STRef[Nothing,Int]]\r",
      "    def apply[S] = STRef(1)\r",
      "                        ^\u001b[0m"
     ]
    }
   ],
   "source": [
    "new RunnableST[STRef[Nothing, Int]] {\n",
    "    def apply[S] = STRef(1)\n",
    "}"
   ]
  },
  {
   "cell_type": "markdown",
   "metadata": {},
   "source": [
    "###14.2.4. Mutable arrays"
   ]
  },
  {
   "cell_type": "markdown",
   "metadata": {},
   "source": [
    "- mutable var 하나로는 별로 유용하지 않음."
   ]
  },
  {
   "cell_type": "code",
   "execution_count": 30,
   "metadata": {
    "collapsed": false
   },
   "outputs": [
    {
     "data": {
      "text/plain": []
     },
     "execution_count": 30,
     "metadata": {},
     "output_type": "execute_result"
    }
   ],
   "source": [
    "// Scala requires an implicit Manifest for constructing arrays.\n",
    "sealed abstract class STArray[S,A](implicit manifest: Manifest[A]) {\n",
    "  protected def value: Array[A]\n",
    "  def size: ST[S,Int] = ST(value.size)\n",
    "  // Write a value at the give index of the array\n",
    "  def write(i: Int, a: A): ST[S,Unit] = new ST[S,Unit] {\n",
    "    def run(s: S) = {\n",
    "      value(i) = a\n",
    "      ((), s)\n",
    "    }\n",
    "  }\n",
    "  // Read the value at the given index of the array\n",
    "  def read(i: Int): ST[S,A] = ST(value(i))\n",
    "  // Turn the array into an immutable list\n",
    "  def freeze: ST[S,List[A]] = ST(value.toList)\n",
    "\n",
    "  def fill(xs: Map[Int,A]): ST[S,Unit] =\n",
    "    xs.foldRight(ST[S,Unit](())) {\n",
    "    case ((k, v), st) => st flatMap (_ => write(k, v))\n",
    "  }\n",
    "\n",
    "/////////////////////////////////////////////////////////////////////\n",
    "  // below for 14.2.5. \n",
    "  def swap(i: Int, j: Int): ST[S,Unit] = for {\n",
    "    x <- read(i)\n",
    "    y <- read(j)\n",
    "    _ <- write(i, y)\n",
    "    _ <- write(j, x)\n",
    "  } yield ()\n",
    "}\n",
    "\n",
    "object STArray {\n",
    "  // Construct an array of the given size filled with the value v\n",
    "  def apply[S,A:Manifest](sz: Int, v: A): ST[S, STArray[S,A]] =\n",
    "    ST(new STArray[S,A] {\n",
    "      lazy val value = Array.fill(sz)(v)\n",
    "    })\n",
    "\n",
    "  def fromList[S,A:Manifest](xs: List[A]): ST[S, STArray[S,A]] =\n",
    "    ST(new STArray[S,A] {\n",
    "      lazy val value = xs.toArray\n",
    "    })\n",
    "}\n"
   ]
  },
  {
   "cell_type": "markdown",
   "metadata": {},
   "source": [
    "- STRef와 마찬가지로 STArray를 ST action에 패키징해서 처리하게 하려함..\n",
    "- Array 원소를 읽는 것 자체도 ST에 S태그가 들어간 것으로 처리함."
   ]
  },
  {
   "cell_type": "markdown",
   "metadata": {},
   "source": [
    "### 14.2.5. A purely functional in-place quicksort"
   ]
  },
  {
   "cell_type": "code",
   "execution_count": 32,
   "metadata": {
    "collapsed": false
   },
   "outputs": [
    {
     "data": {
      "text/plain": []
     },
     "execution_count": 32,
     "metadata": {},
     "output_type": "execute_result"
    }
   ],
   "source": [
    "\n",
    "object Immutable {\n",
    "  def noop[S] = ST[S,Unit](())\n",
    "\n",
    "    def partition[S](a: STArray[S,Int], l: Int, r: Int, pivot: Int): ST[S,Int] = for {\n",
    "      vp <- a.read(pivot)\n",
    "      _ <- a.swap(pivot, r)\n",
    "      j <- STRef(l)\n",
    "      _ <- (l until r).foldLeft(noop[S])((s, i) => for {\n",
    "        _ <- s\n",
    "        vi <- a.read(i)\n",
    "        _  <- if (vi < vp) (for {\n",
    "          vj <- j.read\n",
    "          _  <- a.swap(i, vj)\n",
    "          _  <- j.write(vj + 1)\n",
    "        } yield ()) else noop[S]\n",
    "      } yield ())\n",
    "      x <- j.read\n",
    "      _ <- a.swap(x, r)\n",
    "    } yield x\n",
    "\n",
    "    def qs[S](a: STArray[S,Int], l: Int, r: Int): ST[S, Unit] = if (l < r) for {\n",
    "      pi <- partition(a, l, r, l + (r - l) / 2)\n",
    "      _ <- qs(a, l, pi - 1)\n",
    "      _ <- qs(a, pi + 1, r)\n",
    "    } yield () else noop[S]\n",
    "\n",
    "\n",
    "  def quicksort(xs: List[Int]): List[Int] =\n",
    "    if (xs.isEmpty) xs else ST.runST(new RunnableST[List[Int]] {\n",
    "      def apply[S] = for {\n",
    "        arr    <- STArray.fromList(xs)\n",
    "        size   <- arr.size\n",
    "        _      <- qs(arr, 0, size - 1)\n",
    "        sorted <- arr.freeze\n",
    "      } yield sorted\n",
    "  })\n",
    "}"
   ]
  },
  {
   "cell_type": "code",
   "execution_count": 33,
   "metadata": {
    "collapsed": false
   },
   "outputs": [
    {
     "data": {
      "text/plain": [
       "List(3, 1, 2, 5, 7, 9, 0, 4, 8, 6)"
      ]
     },
     "execution_count": 33,
     "metadata": {},
     "output_type": "execute_result"
    }
   ],
   "source": [
    "mylist"
   ]
  },
  {
   "cell_type": "code",
   "execution_count": 34,
   "metadata": {
    "collapsed": false
   },
   "outputs": [
    {
     "data": {
      "text/plain": [
       "List(0, 1, 2, 3, 4, 5, 6, 7, 8, 9)"
      ]
     },
     "execution_count": 34,
     "metadata": {},
     "output_type": "execute_result"
    }
   ],
   "source": [
    "Immutable.quicksort(mylist)"
   ]
  },
  {
   "cell_type": "code",
   "execution_count": 35,
   "metadata": {
    "collapsed": false
   },
   "outputs": [
    {
     "data": {
      "text/plain": [
       "List(3, 1, 2, 5, 7, 9, 0, 4, 8, 6)"
      ]
     },
     "execution_count": 35,
     "metadata": {},
     "output_type": "execute_result"
    }
   ],
   "source": [
    "mylist"
   ]
  },
  {
   "cell_type": "markdown",
   "metadata": {},
   "source": [
    "## 14.3. Purity is contextual"
   ]
  },
  {
   "cell_type": "code",
   "execution_count": 39,
   "metadata": {
    "collapsed": false
   },
   "outputs": [
    {
     "data": {
      "text/plain": []
     },
     "execution_count": 39,
     "metadata": {},
     "output_type": "execute_result"
    }
   ],
   "source": [
    "case class Foo(s: String)"
   ]
  },
  {
   "cell_type": "code",
   "execution_count": 40,
   "metadata": {
    "collapsed": false
   },
   "outputs": [
    {
     "data": {
      "text/plain": [
       "true"
      ]
     },
     "execution_count": 40,
     "metadata": {},
     "output_type": "execute_result"
    }
   ],
   "source": [
    "val b = Foo(\"hello\") == Foo(\"hello\")"
   ]
  },
  {
   "cell_type": "code",
   "execution_count": 41,
   "metadata": {
    "collapsed": false
   },
   "outputs": [
    {
     "data": {
      "text/plain": [
       "false"
      ]
     },
     "execution_count": 41,
     "metadata": {},
     "output_type": "execute_result"
    }
   ],
   "source": [
    "val c = Foo(\"hello\") eq Foo(\"hello\")"
   ]
  },
  {
   "cell_type": "markdown",
   "metadata": {},
   "source": [
    "- 참조 투명성 관점에서 보자면, Scala의 모든 데이터 생성자는 (eq 연산자에 대해서) side-effect가 있는 셈.(메모리 할당하고, 기타 등등..)\n",
    "- 하지만, eq 연산자만 그런 것이고, 대부분의 프로그램 코드에서는 문제가 되지 않음.\n",
    "- 즉, side-effect라는 것도 크게 보면 해당 expression이 어떤 맥락에서 사용되고 있는지를 따져봐서, 특정 맥락에서 \"관측이 되지 않으면\"참조 투명성이 있다고 봐도 무방하겠다.."
   ]
  },
  {
   "cell_type": "markdown",
   "metadata": {},
   "source": [
    "###14.3.1. What counts as a side-effect"
   ]
  },
  {
   "cell_type": "code",
   "execution_count": 42,
   "metadata": {
    "collapsed": false
   },
   "outputs": [
    {
     "data": {
      "text/plain": []
     },
     "execution_count": 42,
     "metadata": {},
     "output_type": "execute_result"
    }
   ],
   "source": [
    "def timesTwo(x: Int) = {\n",
    "    if (x < 0) println(\"Got a negative number\")\n",
    "    x*2\n",
    "}"
   ]
  },
  {
   "cell_type": "code",
   "execution_count": 43,
   "metadata": {
    "collapsed": false
   },
   "outputs": [
    {
     "data": {
      "text/plain": [
       "2"
      ]
     },
     "execution_count": 43,
     "metadata": {},
     "output_type": "execute_result"
    }
   ],
   "source": [
    "timesTwo(1)"
   ]
  },
  {
   "cell_type": "markdown",
   "metadata": {},
   "source": [
    "- 프로그램상에서 timesTwo(1)이 출현하는 곳을 모두 '2'로 바꾸면...?\n",
    "  - 이 경우 프로그램의 의미가 달라졌다고 할 것인가??\n",
    "- **결국, 어떤 것이 유의미한(side-effect를 고려하면서 끝까지 추적가능하게 만들) effect인가를 (프로그래머 스스로) 결정해야 한다.**"
   ]
  },
  {
   "cell_type": "markdown",
   "metadata": {},
   "source": [
    "# *\"But this isn’t the end of the road.\"*\n",
    "# *\"You’re limited only by your imagination and the expressiveness of Scala’s types.\"*"
   ]
  }
 ],
 "metadata": {
  "kernelspec": {
   "display_name": "Scala 2.11",
   "language": "scala",
   "name": "scala-2.11"
  },
  "language_info": {
   "codemirror_mode": "text/x-scala",
   "file_extension": "scala",
   "mimetype": "text/x-scala",
   "name": "scala"
  }
 },
 "nbformat": 4,
 "nbformat_minor": 0
}
