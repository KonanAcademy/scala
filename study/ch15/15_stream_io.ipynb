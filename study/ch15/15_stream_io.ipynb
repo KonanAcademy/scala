{
 "cells": [
  {
   "cell_type": "markdown",
   "metadata": {},
   "source": [
    "# 15 스트림 처리와 점진적 입출력"
   ]
  },
  {
   "cell_type": "markdown",
   "metadata": {},
   "source": [
    "* 스칼라로 배우는 함수형 프로그래밍 - 15장\n",
    "* 김무성"
   ]
  },
  {
   "cell_type": "markdown",
   "metadata": {},
   "source": [
    "# 차례 "
   ]
  },
  {
   "cell_type": "markdown",
   "metadata": {},
   "source": [
    "* 15.1 명령식 입출력의 문제점을 보여주는 예제 하나\n",
    "* 15.2 간단한 스트림 변환기\n",
    "    - 15.2.1 처리 공정의 생성\n",
    "    - 15.2.2 처리 공정의 합성과 추가\n",
    "    - 15.2.3 파일 처리\n",
    "* 15.3 확장 가능한 처리 공정 형식\n",
    "    - 15.3.1 공급원\n",
    "    - 15.3.2 자원 안정성 보장\n",
    "    - 15.3.3 단일 입력 처리 공정\n",
    "    - 15.3.4 다중 입력 스트림\n",
    "    - 15.3.5 싱크 \n",
    "    - 15.3.6 효과 있는 채널\n",
    "    - 15.3.7 동적 자원 할당\n",
    "* 15.4 응용\n",
    "* 15.5 요약"
   ]
  },
  {
   "cell_type": "markdown",
   "metadata": {},
   "source": [
    "# 15.1 명령식 입출력의 문제점을 보여주는 예제 하나"
   ]
  },
  {
   "cell_type": "markdown",
   "metadata": {},
   "source": [
    "<img src=\"figures/cap15.1.jpg\" width=700 />"
   ]
  },
  {
   "cell_type": "code",
   "execution_count": null,
   "metadata": {
    "collapsed": true
   },
   "outputs": [],
   "source": [
    "lines.zipWidthIndex.exists(_._2 + 1 >= 40000)"
   ]
  },
  {
   "cell_type": "code",
   "execution_count": null,
   "metadata": {
    "collapsed": true
   },
   "outputs": [],
   "source": [
    "lines.filter(!_.trim.isEmpty).zipWidthIndex.exists(_._2 + 1 >= 40000)"
   ]
  },
  {
   "cell_type": "code",
   "execution_count": null,
   "metadata": {
    "collapsed": true
   },
   "outputs": [],
   "source": [
    "x\n",
    "lines.filter(!_.trim.isEmpty).\n",
    "            take(40000).\n",
    "            map(_.head).\n",
    "            indexOfSlice(\"abracadabra\".toList)"
   ]
  },
  {
   "cell_type": "code",
   "execution_count": null,
   "metadata": {
    "collapsed": true
   },
   "outputs": [],
   "source": [
    "Stream[String] x"
   ]
  },
  {
   "cell_type": "code",
   "execution_count": null,
   "metadata": {
    "collapsed": true
   },
   "outputs": [],
   "source": [
    "IO[Stream[String]]"
   ]
  },
  {
   "cell_type": "code",
   "execution_count": null,
   "metadata": {
    "collapsed": true
   },
   "outputs": [],
   "source": [
    "def lines(filename: String) : IO[Stream[String]] = IO {\n",
    "    val src = io.Source.fromFile(filename)\n",
    "    src.getLines.toStream append { src.close; Stream.empty}\n",
    "}"
   ]
  },
  {
   "cell_type": "markdown",
   "metadata": {},
   "source": [
    "# 15.2 간단한 스트림 변환기"
   ]
  },
  {
   "cell_type": "markdown",
   "metadata": {},
   "source": [
    "* 15.2.1 처리 공정의 생성\n",
    "* 15.2.2 처리 공정의 합성과 추가\n",
    "* 15.2.3 파일 처리"
   ]
  },
  {
   "cell_type": "markdown",
   "metadata": {},
   "source": [
    "<img src=\"figures/cap15.2.jpg\" width=700 />"
   ]
  },
  {
   "cell_type": "code",
   "execution_count": null,
   "metadata": {
    "collapsed": true
   },
   "outputs": [],
   "source": [
    "def apply(s: Stream[I]) : Stream[0] = this match {\n",
    "    case Halt() => Stream()\n",
    "    case Await(recv) => s match {\n",
    "        case h #:: t => rcev(Some(h))(t)\n",
    "        case xs => recv(None)(xs) // stream이 비었음\n",
    "    }\n",
    "    case Emit(h, t) => h #:: t(s)\n",
    "}"
   ]
  },
  {
   "cell_type": "markdown",
   "metadata": {},
   "source": [
    "## 15.2.1 처리 공정의 생성"
   ]
  },
  {
   "cell_type": "code",
   "execution_count": null,
   "metadata": {
    "collapsed": true
   },
   "outputs": [],
   "source": [
    "def liftOne[I,O](f: I => O): Process[I,O] =\n",
    "    Await {\n",
    "        case Some(i) => Empty(f(i))\n",
    "        case None => Halt()\n",
    "    }"
   ]
  },
  {
   "cell_type": "raw",
   "metadata": {},
   "source": [
    "scala > val p = liftOne((x:Int) => x*2 )\n",
    "p: Process[Int,Int] = Await(<function1)"
   ]
  },
  {
   "cell_type": "raw",
   "metadata": {},
   "source": [
    "scala > val xs = p(Stream(1,2,3)).toList\n",
    "xs : List[Int] = List(2)"
   ]
  },
  {
   "cell_type": "markdown",
   "metadata": {},
   "source": [
    "<img src=\"figures/cap15.3.jpg\" width=700 />"
   ]
  },
  {
   "cell_type": "code",
   "execution_count": null,
   "metadata": {
    "collapsed": true
   },
   "outputs": [],
   "source": [
    "def lift[I,O](f: I => O) : Process[I,O] = liftOne(f).repeat"
   ]
  },
  {
   "cell_type": "raw",
   "metadata": {},
   "source": [
    "scala> val units = Stream.continually(())\n",
    "units: Scala.collection.immutable.Stream[Unit] = Stream((), ?)"
   ]
  },
  {
   "cell_type": "code",
   "execution_count": null,
   "metadata": {
    "collapsed": true
   },
   "outputs": [],
   "source": [
    "scals> val ones = lift((_:Unit) => 1)(units)\n",
    "ones: Stream[Int] = Stream(1, ?)"
   ]
  },
  {
   "cell_type": "code",
   "execution_count": null,
   "metadata": {
    "collapsed": true
   },
   "outputs": [],
   "source": [
    "def filter[I](p: I => Boolean) : Process[I,I] =\n",
    "    Await[I,I] {\n",
    "        case Some(i) if p(i) => emit(i)\n",
    "        case _ => Halt()\n",
    "    }.repeat"
   ]
  },
  {
   "cell_type": "raw",
   "metadata": {},
   "source": [
    "scala> val even = filter(x: Int) => x % 2 ==0)\n",
    "even : Process[Int, Int] = Await(<function1>)"
   ]
  },
  {
   "cell_type": "code",
   "execution_count": null,
   "metadata": {
    "collapsed": true
   },
   "outputs": [],
   "source": [
    "scala> val evens = even(Stream(1,2,3,4)).toList\n",
    "evens : List[Int] = List(2,4)"
   ]
  },
  {
   "cell_type": "code",
   "execution_count": null,
   "metadata": {
    "collapsed": true
   },
   "outputs": [],
   "source": [
    "def sum: Process[Doube, Double] = {\n",
    "    def go(acc: Double) : Process[Double,Double] =\n",
    "        Await {\n",
    "            case Some(d) => Emit(d+acc, go(d+acc))\n",
    "            case None => Halt()\n",
    "        }\n",
    "    go(0.0)\n",
    "}"
   ]
  },
  {
   "cell_type": "code",
   "execution_count": null,
   "metadata": {
    "collapsed": true
   },
   "outputs": [],
   "source": [
    "scala> val s = sum(Stream(1.0, 2.0, 3.0, 4.0)).toList\n",
    "s: List[Double] = List(1.0, 3.0, 6.0, 10.0)"
   ]
  },
  {
   "cell_type": "code",
   "execution_count": null,
   "metadata": {
    "collapsed": true
   },
   "outputs": [],
   "source": [
    "def loop[S,I,O](z: S)(f: (I,S) => (O,S)): Process[I,O] =\n",
    "    await((i: I) => f(i,z) match {\n",
    "        case (o,s2) => emit(o, loop(s2)(f))\n",
    "    })"
   ]
  },
  {
   "cell_type": "markdown",
   "metadata": {},
   "source": [
    "## 15.2.2 처리 공정의 합성과 추가"
   ]
  },
  {
   "cell_type": "code",
   "execution_count": null,
   "metadata": {
    "collapsed": true
   },
   "outputs": [],
   "source": [
    "f |> g"
   ]
  },
  {
   "cell_type": "code",
   "execution_count": null,
   "metadata": {
    "collapsed": true
   },
   "outputs": [],
   "source": [
    "def |> [O2](p2: Process[O,O2]) : Process[I,O2]"
   ]
  },
  {
   "cell_type": "code",
   "execution_count": null,
   "metadata": {
    "collapsed": true
   },
   "outputs": [],
   "source": [
    "filter(_ % 2 ==0) |> lift(_ + 1)"
   ]
  },
  {
   "cell_type": "code",
   "execution_count": null,
   "metadata": {
    "collapsed": true
   },
   "outputs": [],
   "source": [
    "def map[O2](f: O => O2): Process[I,O2] = this |> lift(f)"
   ]
  },
  {
   "cell_type": "code",
   "execution_count": null,
   "metadata": {
    "collapsed": true
   },
   "outputs": [],
   "source": [
    "def ++(p: => Process[I,O]): Process[I,O] = this match {\n",
    "    case Halt() => p\n",
    "    case Emit(h,t) => Emit(h, t ++ p)\n",
    "    case Await(recv) => Await(recv andThen (_ ++ p))\n",
    "}"
   ]
  },
  {
   "cell_type": "code",
   "execution_count": null,
   "metadata": {
    "collapsed": true
   },
   "outputs": [],
   "source": [
    "def monad[I]: Monad[({type f[x] = Process[I,x]})#f] =\n",
    "    new Monad[({type f[x] = Process[I,x]})#f] {\n",
    "        def unit[0](o: => O): Process[I,x] = Emit(o)\n",
    "        def flatMap[o,o2](p:Process[I,O])(\n",
    "                        f: O => Process[I,O2]) : Process[I,O2] =\n",
    "                    p flatMat f\n",
    "    }"
   ]
  },
  {
   "cell_type": "markdown",
   "metadata": {},
   "source": [
    "## 15.2.3 파일 처리"
   ]
  },
  {
   "cell_type": "markdown",
   "metadata": {},
   "source": [
    "<img src=\"figures/cap15.4.jpg\" width=700 />"
   ]
  },
  {
   "cell_type": "code",
   "execution_count": null,
   "metadata": {
    "collapsed": true
   },
   "outputs": [],
   "source": [
    "processFile(f, count |> exists(_ > 40000), flase)(_ || _)"
   ]
  },
  {
   "cell_type": "markdown",
   "metadata": {},
   "source": [
    "# 15.3 확장 가능한 처리 공정 형식"
   ]
  },
  {
   "cell_type": "markdown",
   "metadata": {},
   "source": [
    "* 15.3.1 공급원\n",
    "* 15.3.2 자원 안정성 보장\n",
    "* 15.3.3 단일 입력 처리 공정\n",
    "* 15.3.4 다중 입력 스트림\n",
    "* 15.3.5 싱크 \n",
    "* 15.3.6 효과 있는 채널\n",
    "* 15.3.7 동적 자원 할당"
   ]
  },
  {
   "cell_type": "markdown",
   "metadata": {},
   "source": [
    "<img src=\"figures/cap15.5.jpg\" width=700 />"
   ]
  },
  {
   "cell_type": "markdown",
   "metadata": {},
   "source": [
    "<img src=\"figures/cap15.6.jpg\" width=700 />"
   ]
  },
  {
   "cell_type": "markdown",
   "metadata": {},
   "source": [
    "<img src=\"figures/cap15.7.jpg\" width=700 />"
   ]
  },
  {
   "cell_type": "markdown",
   "metadata": {},
   "source": [
    "## 15.3.1 공급원"
   ]
  },
  {
   "cell_type": "code",
   "execution_count": null,
   "metadata": {
    "collapsed": true
   },
   "outputs": [],
   "source": [
    "case Class Await[A,O] (\n",
    "    req: IO[A],\n",
    "    recv: Either[Trowalbe, A] => Process[IO,O]\n",
    ") extends Process[IO, O]"
   ]
  },
  {
   "cell_type": "markdown",
   "metadata": {},
   "source": [
    "<img src=\"figures/cap15.8.jpg\" width=700 />"
   ]
  },
  {
   "cell_type": "markdown",
   "metadata": {},
   "source": [
    "## 15.3.2 자원 안정성 보장"
   ]
  },
  {
   "cell_type": "code",
   "execution_count": null,
   "metadata": {
    "collapsed": true
   },
   "outputs": [],
   "source": [
    "runlog { lines(\"nmaes.txt\") |> take(5)}"
   ]
  },
  {
   "cell_type": "markdown",
   "metadata": {},
   "source": [
    "## 15.3.3 단일 입력 처리 공정"
   ]
  },
  {
   "cell_type": "markdown",
   "metadata": {},
   "source": [
    "<img src=\"figures/cap15.9.jpg\" width=700 />"
   ]
  },
  {
   "cell_type": "markdown",
   "metadata": {},
   "source": [
    "## 15.3.4 다중 입력 스트림"
   ]
  },
  {
   "cell_type": "markdown",
   "metadata": {},
   "source": [
    "<img src=\"figures/cap15.10.jpg\" width=700 />"
   ]
  },
  {
   "cell_type": "markdown",
   "metadata": {},
   "source": [
    "## 15.3.5 싱크 "
   ]
  },
  {
   "cell_type": "markdown",
   "metadata": {},
   "source": [
    "## 15.3.6 효과 있는 채널"
   ]
  },
  {
   "cell_type": "markdown",
   "metadata": {},
   "source": [
    "## 15.3.7 동적 자원 할당"
   ]
  },
  {
   "cell_type": "markdown",
   "metadata": {},
   "source": [
    "# 15.4 응용"
   ]
  },
  {
   "cell_type": "markdown",
   "metadata": {},
   "source": [
    "# 15.5 요약"
   ]
  },
  {
   "cell_type": "markdown",
   "metadata": {},
   "source": [
    "# 참고자료"
   ]
  },
  {
   "cell_type": "markdown",
   "metadata": {
    "collapsed": true
   },
   "source": [
    "* [1] 스칼라로 배우는 함수형 프로그래밍 - http://www.kyobobook.co.kr/product/detailViewKor.laf?mallGb=KOR&ejkGb=KOR&barcode=9791185890180\n",
    "* [2] 책 예제 코드 github - https://github.com/fpinscala/fpinscala"
   ]
  }
 ],
 "metadata": {
  "kernelspec": {
   "display_name": "Scala 2.10.4",
   "language": "scala",
   "name": "scala"
  },
  "language_info": {
   "name": "scala"
  }
 },
 "nbformat": 4,
 "nbformat_minor": 0
}
