{
 "cells": [
  {
   "cell_type": "markdown",
   "metadata": {},
   "source": [
    "# 03 함수적 자료구조"
   ]
  },
  {
   "cell_type": "markdown",
   "metadata": {},
   "source": [
    "* 스칼라로 배우는 함수형 프로그래밍 - 3장\n",
    "* 김무성"
   ]
  },
  {
   "cell_type": "markdown",
   "metadata": {},
   "source": [
    "# 차례"
   ]
  },
  {
   "cell_type": "markdown",
   "metadata": {},
   "source": [
    "* 3.1 함수적 자료구조의 정의\n",
    "* 3.2 패턴 부합\n",
    "* 3.3 함수적 자료구조의 자료 공유\n",
    "    - 3.3.1 자료 공유의 효율성\n",
    "    - 3.3.2 고차 함수를 위한 형식 추론 개선\n",
    "* 3.4 목록에 대한 재귀와 고차 함수로의 일반화\n",
    "    - 3.4.1 그 외의 목록 조작 함수들\n",
    "    - 3.4.2 단순 구성요소들로 목록 함수를 조립할 때의 효율성 손실\n",
    "* 3.5 트리"
   ]
  },
  {
   "cell_type": "markdown",
   "metadata": {},
   "source": [
    "# 3.1 함수적 자료구조의 정의"
   ]
  },
  {
   "cell_type": "markdown",
   "metadata": {},
   "source": [
    "* 함수적 자료구조란 오직 순수 함수만으로 조작되는 자료구조다.\n",
    "* 함수적 자료구조는 불변이(immutable)이다.\n",
    "* 이러면 여분의 복사가 많이 일어나지 않을까? (자료구조끼리 더하면 합쳐진 새로운 자료구조를 반환하는데) -> \"그렇지 않다\" - 왜? 자료공유 방식을 사용하므로."
   ]
  },
  {
   "cell_type": "markdown",
   "metadata": {},
   "source": [
    "## 단일 연결 목록 예제(Single Linked List) "
   ]
  },
  {
   "cell_type": "markdown",
   "metadata": {},
   "source": [
    "#### 스칼라 문법 참고\n",
    "\n",
    "* trait : 추상 인터페이스\n",
    "* case \n",
    "* object  \n",
    "* 형식매개변수 : [A]\n",
    "* 공변(covariant)매개변수임을 뜻하는 가변 지정자(variance annotation) : +\n",
    "* 동반 객체(companion object) : 동반 객체는 자료 형식가 같은 이름의 object로, 자료 형식의 값들을 생성하거나 조작하는 여러 편의용 함수들을 담는 목적으로 쓰인다. "
   ]
  },
  {
   "cell_type": "code",
   "execution_count": 27,
   "metadata": {
    "collapsed": false
   },
   "outputs": [
    {
     "data": {
      "text/plain": []
     },
     "execution_count": 27,
     "metadata": {},
     "output_type": "execute_result"
    },
    {
     "name": "stdout",
     "output_type": "stream",
     "text": []
    }
   ],
   "source": [
    "sealed trait List[+A]\n",
    "case object Nil extends List[Nothing]\n",
    "case class Cons[+A](head: A, tail: List[A]) extends List[A]"
   ]
  },
  {
   "cell_type": "markdown",
   "metadata": {},
   "source": [
    "<img src=\"figures/sll.png\" />"
   ]
  },
  {
   "cell_type": "code",
   "execution_count": 25,
   "metadata": {
    "collapsed": false
   },
   "outputs": [
    {
     "data": {
      "text/plain": []
     },
     "execution_count": 25,
     "metadata": {},
     "output_type": "execute_result"
    },
    {
     "name": "stdout",
     "output_type": "stream",
     "text": []
    }
   ],
   "source": [
    "object List {\n",
    "    def sum(ints: List[Int]) : Int = ints match {\n",
    "        case Nil => 0\n",
    "        case Cons(x,xs) => x + sum(xs)\n",
    "    }\n",
    "    \n",
    "    def product(ds: List[Double]) : Double = ds match {\n",
    "        case Nil => 1.0\n",
    "        case Cons(0.0, _) => 0.0\n",
    "        case Cons(x, xs) => x * product(xs)\n",
    "    }\n",
    "    \n",
    "    def apply[A](as: A*): List[A] = {\n",
    "        if (as.isEmpty) Nil\n",
    "        else Cons(as.head, apply(as.tail: _*))\n",
    "    }\n",
    "\n",
    "}"
   ]
  },
  {
   "cell_type": "markdown",
   "metadata": {},
   "source": [
    "<img src=\"figures/list3.1.png\" />"
   ]
  },
  {
   "cell_type": "code",
   "execution_count": 28,
   "metadata": {
    "collapsed": false
   },
   "outputs": [
    {
     "name": "stdout",
     "output_type": "stream",
     "text": []
    },
    {
     "name": "stderr",
     "output_type": "stream",
     "text": []
    },
    {
     "data": {
      "text/plain": [
       "Nil"
      ]
     },
     "execution_count": 28,
     "metadata": {},
     "output_type": "execute_result"
    }
   ],
   "source": [
    "val ex1: List[Double] = Nil"
   ]
  },
  {
   "cell_type": "code",
   "execution_count": 29,
   "metadata": {
    "collapsed": false
   },
   "outputs": [
    {
     "data": {
      "text/plain": [
       "Cons(1,Nil)"
      ]
     },
     "execution_count": 29,
     "metadata": {},
     "output_type": "execute_result"
    },
    {
     "name": "stdout",
     "output_type": "stream",
     "text": []
    }
   ],
   "source": [
    "val ex2: List[Int] = Cons(1, Nil)"
   ]
  },
  {
   "cell_type": "code",
   "execution_count": 30,
   "metadata": {
    "collapsed": false
   },
   "outputs": [
    {
     "name": "stdout",
     "output_type": "stream",
     "text": []
    },
    {
     "name": "stderr",
     "output_type": "stream",
     "text": []
    },
    {
     "data": {
      "text/plain": [
       "Cons(a,Cons(b,Nil))"
      ]
     },
     "execution_count": 30,
     "metadata": {},
     "output_type": "execute_result"
    }
   ],
   "source": [
    "val ex3: List[String] = Cons(\"a\", Cons(\"b\", Nil))"
   ]
  },
  {
   "cell_type": "markdown",
   "metadata": {},
   "source": [
    "# 3.2 패턴 부합"
   ]
  },
  {
   "cell_type": "code",
   "execution_count": null,
   "metadata": {
    "collapsed": true
   },
   "outputs": [],
   "source": [
    "def sum(ints: List[Int]) : Int = ints match {\n",
    "    case Nil => 0\n",
    "    case Cons(x,xs) => x + sum(xs)\n",
    "}\n",
    "    \n",
    "def product(ds: List[Double]) : Double = ds match {\n",
    "    case Nil => 1.0\n",
    "    case Cons(0.0, _) => 0.0\n",
    "    case Cons(x, xs) => x * product(xs)\n",
    "}"
   ]
  },
  {
   "cell_type": "markdown",
   "metadata": {},
   "source": [
    "<img src=\"figures/ml.png\" />"
   ]
  },
  {
   "cell_type": "code",
   "execution_count": 32,
   "metadata": {
    "collapsed": false
   },
   "outputs": [
    {
     "data": {
      "text/plain": [
       "42"
      ]
     },
     "execution_count": 32,
     "metadata": {},
     "output_type": "execute_result"
    },
    {
     "name": "stdout",
     "output_type": "stream",
     "text": []
    },
    {
     "name": "stderr",
     "output_type": "stream",
     "text": []
    }
   ],
   "source": [
    "List(1,2,3) match { case _ => 42}"
   ]
  },
  {
   "cell_type": "markdown",
   "metadata": {},
   "source": [
    "# 3.3 함수적 자료구조의 자료 공유"
   ]
  },
  {
   "cell_type": "markdown",
   "metadata": {},
   "source": [
    "<img src=\"figures/share.png\" />"
   ]
  },
  {
   "cell_type": "markdown",
   "metadata": {},
   "source": [
    "## 3.3.1 자료 공유의 효율성"
   ]
  },
  {
   "cell_type": "code",
   "execution_count": 31,
   "metadata": {
    "collapsed": false
   },
   "outputs": [
    {
     "name": "stderr",
     "output_type": "stream",
     "text": []
    },
    {
     "name": "stdout",
     "output_type": "stream",
     "text": []
    },
    {
     "data": {
      "text/plain": []
     },
     "execution_count": 31,
     "metadata": {},
     "output_type": "execute_result"
    }
   ],
   "source": [
    "def append[A](a1: List[A], a2: List[A]): List[A] = \n",
    "    a1 match {\n",
    "        case Nil => a2\n",
    "        case Cons(h, t) => Cons(h, append(t, a2))\n",
    "    }"
   ]
  },
  {
   "cell_type": "markdown",
   "metadata": {},
   "source": [
    "## 3.3.2 고차 함수를 위한 형식 추론 개선"
   ]
  },
  {
   "cell_type": "code",
   "execution_count": null,
   "metadata": {
    "collapsed": true
   },
   "outputs": [],
   "source": []
  },
  {
   "cell_type": "markdown",
   "metadata": {},
   "source": [
    "# 3.4 목록에 대한 재귀와 고차 함수로의 일반화"
   ]
  },
  {
   "cell_type": "markdown",
   "metadata": {},
   "source": [
    "## 3.4.1 그 외의 목록 조작 함수들"
   ]
  },
  {
   "cell_type": "markdown",
   "metadata": {},
   "source": [
    "## 3.4.2 단순 구성요소들로 목록 함수를 조립할 때의 효율성 손실"
   ]
  },
  {
   "cell_type": "markdown",
   "metadata": {},
   "source": [
    "# 3.5 트리"
   ]
  },
  {
   "cell_type": "markdown",
   "metadata": {},
   "source": [
    "# 참고자료"
   ]
  },
  {
   "cell_type": "markdown",
   "metadata": {},
   "source": [
    "* [1] 스칼라로 배우는 함수형 프로그래밍 - http://www.kyobobook.co.kr/product/detailViewKor.laf?mallGb=KOR&ejkGb=KOR&barcode=9791185890180\n",
    "* [2] 책 예제 코드 github - https://github.com/fpinscala/fpinscala"
   ]
  }
 ],
 "metadata": {
  "kernelspec": {
   "display_name": "Scala 2.11",
   "language": "scala",
   "name": "scala-2.11"
  },
  "language_info": {
   "codemirror_mode": "text/x-scala",
   "file_extension": "scala",
   "mimetype": "text/x-scala",
   "name": "scala"
  }
 },
 "nbformat": 4,
 "nbformat_minor": 0
}
