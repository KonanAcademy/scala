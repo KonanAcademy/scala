{
 "cells": [
  {
   "cell_type": "code",
   "execution_count": null,
   "metadata": {
    "collapsed": true
   },
   "outputs": [],
   "source": [
    "Chapter 7. Purely functional parallelism"
   ]
  },
  {
   "cell_type": "code",
   "execution_count": null,
   "metadata": {
    "collapsed": true
   },
   "outputs": [],
   "source": [
    "7.1. Choosing data type and functions\n",
    "7.1.1. A data type for parallel computations\n",
    "7.1.2. Combining parallel computations\n",
    "7.1.3. Explicit forking\n",
    "7.2. Picking a representation\n",
    "7.3. Refining the API\n",
    "7.4. The algebra of an API\n",
    "7.4.1. The law of mapping\n",
    "7.4.2. The law of forking\n"
   ]
  }
 ],
 "metadata": {
  "kernelspec": {
   "display_name": "Scala 2.11",
   "language": "scala",
   "name": "scala-2.11"
  },
  "language_info": {
   "codemirror_mode": "text/x-scala",
   "file_extension": "scala",
   "mimetype": "text/x-scala",
   "name": "scala"
  }
 },
 "nbformat": 4,
 "nbformat_minor": 0
}
