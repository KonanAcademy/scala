{
 "cells": [
  {
   "cell_type": "markdown",
   "metadata": {},
   "source": [
    "# 6. Purely functional state"
   ]
  },
  {
   "cell_type": "markdown",
   "metadata": {},
   "source": [
    "## 6.1 Generating random numbers using side effects"
   ]
  },
  {
   "cell_type": "code",
   "execution_count": 1,
   "metadata": {
    "collapsed": false,
    "scrolled": false
   },
   "outputs": [
    {
     "name": "stderr",
     "output_type": "stream",
     "text": []
    },
    {
     "name": "stdout",
     "output_type": "stream",
     "text": []
    },
    {
     "data": {
      "text/plain": [
       "scala.util.Random@b7e142"
      ]
     },
     "execution_count": 1,
     "metadata": {},
     "output_type": "execute_result"
    }
   ],
   "source": [
    "val rng=new scala.util.Random\n"
   ]
  },
  {
   "cell_type": "code",
   "execution_count": 2,
   "metadata": {
    "collapsed": false
   },
   "outputs": [
    {
     "name": "stdout",
     "output_type": "stream",
     "text": []
    },
    {
     "data": {
      "text/plain": [
       "0.8537923442917561"
      ]
     },
     "execution_count": 2,
     "metadata": {},
     "output_type": "execute_result"
    }
   ],
   "source": [
    "rng.nextDouble"
   ]
  },
  {
   "cell_type": "code",
   "execution_count": 3,
   "metadata": {
    "collapsed": false
   },
   "outputs": [
    {
     "data": {
      "text/plain": [
       "0.03818834905616353"
      ]
     },
     "execution_count": 3,
     "metadata": {},
     "output_type": "execute_result"
    }
   ],
   "source": [
    "rng.nextDouble"
   ]
  },
  {
   "cell_type": "code",
   "execution_count": 4,
   "metadata": {
    "collapsed": false
   },
   "outputs": [
    {
     "name": "stdout",
     "output_type": "stream",
     "text": []
    },
    {
     "data": {
      "text/plain": [
       "975753803"
      ]
     },
     "execution_count": 4,
     "metadata": {},
     "output_type": "execute_result"
    }
   ],
   "source": [
    "rng.nextInt"
   ]
  },
  {
   "cell_type": "code",
   "execution_count": 5,
   "metadata": {
    "collapsed": false
   },
   "outputs": [
    {
     "data": {
      "text/plain": []
     },
     "execution_count": 5,
     "metadata": {},
     "output_type": "execute_result"
    }
   ],
   "source": [
    "def rollingDie: Int = {\n",
    "    val rng = new scala.util.Random\n",
    "    rng.nextInt(6)\n",
    "}"
   ]
  },
  {
   "cell_type": "code",
   "execution_count": 6,
   "metadata": {
    "collapsed": false
   },
   "outputs": [
    {
     "data": {
      "text/plain": [
       "3"
      ]
     },
     "execution_count": 6,
     "metadata": {},
     "output_type": "execute_result"
    }
   ],
   "source": [
    "rollingDie"
   ]
  },
  {
   "cell_type": "code",
   "execution_count": 7,
   "metadata": {
    "collapsed": false
   },
   "outputs": [
    {
     "data": {
      "text/plain": [
       "2"
      ]
     },
     "execution_count": 7,
     "metadata": {},
     "output_type": "execute_result"
    }
   ],
   "source": [
    "rollingDie"
   ]
  },
  {
   "cell_type": "code",
   "execution_count": 8,
   "metadata": {
    "collapsed": false
   },
   "outputs": [
    {
     "data": {
      "text/plain": [
       "0"
      ]
     },
     "execution_count": 8,
     "metadata": {},
     "output_type": "execute_result"
    }
   ],
   "source": [
    "rollingDie"
   ]
  },
  {
   "cell_type": "markdown",
   "metadata": {},
   "source": [
    "### => all using internal state variable => SIDE EFFECT!"
   ]
  },
  {
   "cell_type": "markdown",
   "metadata": {},
   "source": [
    "## 6.2 Purely functional random number generation"
   ]
  },
  {
   "cell_type": "code",
   "execution_count": 9,
   "metadata": {
    "collapsed": false
   },
   "outputs": [
    {
     "data": {
      "text/plain": []
     },
     "execution_count": 9,
     "metadata": {},
     "output_type": "execute_result"
    }
   ],
   "source": [
    "trait RNG {\n",
    "    def nextInt: (Int, RNG)\n",
    "}"
   ]
  },
  {
   "cell_type": "markdown",
   "metadata": {},
   "source": [
    "### => 난수 계산과 state 전달 분리."
   ]
  },
  {
   "cell_type": "code",
   "execution_count": 10,
   "metadata": {
    "collapsed": false
   },
   "outputs": [
    {
     "data": {
      "text/plain": []
     },
     "execution_count": 10,
     "metadata": {},
     "output_type": "execute_result"
    }
   ],
   "source": [
    "case class SimpleRNG(seed: Long) extends RNG {\n",
    "    def nextInt: (Int, RNG) = {\n",
    "        val newSeed = (seed * 0x5DEECE66DL + 0xBL) & 0xFFFFFFFFFFFFL\n",
    "        val nextRNG = SimpleRNG(newSeed)\n",
    "        val n = (newSeed >>> 16).toInt\n",
    "        (n, nextRNG)\n",
    "    }\n",
    "}"
   ]
  },
  {
   "cell_type": "code",
   "execution_count": 11,
   "metadata": {
    "collapsed": false
   },
   "outputs": [
    {
     "data": {
      "text/plain": [
       "SimpleRNG(42)"
      ]
     },
     "execution_count": 11,
     "metadata": {},
     "output_type": "execute_result"
    }
   ],
   "source": [
    "val rng = SimpleRNG(42)"
   ]
  },
  {
   "cell_type": "code",
   "execution_count": 12,
   "metadata": {
    "collapsed": false
   },
   "outputs": [
    {
     "data": {
      "text/plain": [
       "16159453"
      ]
     },
     "execution_count": 12,
     "metadata": {},
     "output_type": "execute_result"
    }
   ],
   "source": [
    "val (n1, rng2) = rng.nextInt"
   ]
  },
  {
   "cell_type": "code",
   "execution_count": 13,
   "metadata": {
    "collapsed": false
   },
   "outputs": [
    {
     "name": "stdout",
     "output_type": "stream",
     "text": []
    },
    {
     "data": {
      "text/plain": [
       "-1281479697"
      ]
     },
     "execution_count": 13,
     "metadata": {},
     "output_type": "execute_result"
    }
   ],
   "source": [
    "val (n2, rng3) = rng2.nextInt"
   ]
  },
  {
   "cell_type": "code",
   "execution_count": 76,
   "metadata": {
    "collapsed": false
   },
   "outputs": [
    {
     "data": {
      "text/plain": [
       "SimpleRNG(1059025964525)"
      ]
     },
     "execution_count": 76,
     "metadata": {},
     "output_type": "execute_result"
    }
   ],
   "source": [
    "rng2"
   ]
  },
  {
   "cell_type": "code",
   "execution_count": 77,
   "metadata": {
    "collapsed": false
   },
   "outputs": [
    {
     "data": {
      "text/plain": [
       "SimpleRNG(197491923327988)"
      ]
     },
     "execution_count": 77,
     "metadata": {},
     "output_type": "execute_result"
    }
   ],
   "source": [
    "rng3"
   ]
  },
  {
   "cell_type": "markdown",
   "metadata": {},
   "source": [
    "## 6.3 Making stateful APIs pure"
   ]
  },
  {
   "cell_type": "code",
   "execution_count": 17,
   "metadata": {
    "collapsed": false
   },
   "outputs": [
    {
     "data": {
      "text/plain": []
     },
     "execution_count": 17,
     "metadata": {},
     "output_type": "execute_result"
    }
   ],
   "source": [
    "def randomPair0(rng:RNG):(Int, Int) = {\n",
    "    val (i1, _) = rng.nextInt\n",
    "    val (i2, _) = rng.nextInt\n",
    "    (i1,i2)\n",
    "}"
   ]
  },
  {
   "cell_type": "code",
   "execution_count": 18,
   "metadata": {
    "collapsed": false
   },
   "outputs": [
    {
     "data": {
      "text/plain": [
       "(-1281479697,-1281479697)"
      ]
     },
     "execution_count": 18,
     "metadata": {},
     "output_type": "execute_result"
    }
   ],
   "source": [
    "randomPair0(rng2)"
   ]
  },
  {
   "cell_type": "code",
   "execution_count": 19,
   "metadata": {
    "collapsed": false
   },
   "outputs": [
    {
     "data": {
      "text/plain": []
     },
     "execution_count": 19,
     "metadata": {},
     "output_type": "execute_result"
    }
   ],
   "source": [
    "def randomPair(rng:RNG): ((Int,Int), RNG) = {\n",
    "    val (i1, rng2) = rng.nextInt\n",
    "    val (i2, rng3) = rng2.nextInt\n",
    "    ((i1,i2),rng3)\n",
    "}"
   ]
  },
  {
   "cell_type": "code",
   "execution_count": 20,
   "metadata": {
    "collapsed": false
   },
   "outputs": [
    {
     "data": {
      "text/plain": [
       "((-1281479697,-340305902),SimpleRNG(259172689157871))"
      ]
     },
     "execution_count": 20,
     "metadata": {},
     "output_type": "execute_result"
    }
   ],
   "source": [
    "randomPair(rng2)"
   ]
  },
  {
   "cell_type": "markdown",
   "metadata": {},
   "source": [
    "### Ex.6.1 nonNegativeInt [0 ~ Int.maxValue]"
   ]
  },
  {
   "cell_type": "code",
   "execution_count": 21,
   "metadata": {
    "collapsed": false
   },
   "outputs": [
    {
     "data": {
      "text/plain": []
     },
     "execution_count": 21,
     "metadata": {},
     "output_type": "execute_result"
    }
   ],
   "source": [
    "def nonNegativeInt(rng:RNG): (Int, RNG) = {\n",
    "    var n = 0\n",
    "    val (i, rngNext) = rng.nextInt\n",
    "    if (i==Int.MinValue) n = - (Int.MinValue+1)\n",
    "    if (i<0) n = -i\n",
    "    else n = i\n",
    "    (n,rngNext)\n",
    "// book's answer\n",
    "// if (i < 0) (-(i+1),rngNext) else (i, rngNext) \n",
    "}"
   ]
  },
  {
   "cell_type": "code",
   "execution_count": 22,
   "metadata": {
    "collapsed": false
   },
   "outputs": [
    {
     "data": {
      "text/plain": [
       "1281479697"
      ]
     },
     "execution_count": 22,
     "metadata": {},
     "output_type": "execute_result"
    }
   ],
   "source": [
    "val (n1, r3) = nonNegativeInt(rng2)"
   ]
  },
  {
   "cell_type": "code",
   "execution_count": 23,
   "metadata": {
    "collapsed": false
   },
   "outputs": [
    {
     "data": {
      "text/plain": [
       "SimpleRNG(197491923327988)"
      ]
     },
     "execution_count": 23,
     "metadata": {},
     "output_type": "execute_result"
    }
   ],
   "source": [
    "r3"
   ]
  },
  {
   "cell_type": "code",
   "execution_count": 24,
   "metadata": {
    "collapsed": false
   },
   "outputs": [
    {
     "data": {
      "text/plain": [
       "(340305902,SimpleRNG(259172689157871))"
      ]
     },
     "execution_count": 24,
     "metadata": {},
     "output_type": "execute_result"
    }
   ],
   "source": [
    "nonNegativeInt(r3)"
   ]
  },
  {
   "cell_type": "markdown",
   "metadata": {},
   "source": [
    "### Ex.6.2 double"
   ]
  },
  {
   "cell_type": "code",
   "execution_count": 25,
   "metadata": {
    "collapsed": false
   },
   "outputs": [
    {
     "data": {
      "text/plain": []
     },
     "execution_count": 25,
     "metadata": {},
     "output_type": "execute_result"
    }
   ],
   "source": [
    "def double(rng:RNG): (Double, RNG) = {\n",
    "    val (i,r) = nonNegativeInt(rng)\n",
    "    if (i!=Int.MaxValue) ((i.toDouble / Int.MaxValue.toDouble), r)\n",
    "    else ((Int.MaxValue-1).toDouble / Int.MaxValue.toDouble, r)\n",
    "/*** book's answer\n",
    "def double(rng: RNG): (Double, RNG) = {\n",
    "  val (i, r) = nonNegativeInt(rng)\n",
    "  (i / (Int.MaxValue.toDouble + 1), r)\n",
    "}\n",
    "****/\n",
    "}"
   ]
  },
  {
   "cell_type": "code",
   "execution_count": 26,
   "metadata": {
    "collapsed": false
   },
   "outputs": [
    {
     "data": {
      "text/plain": [
       "(0.5967354856416283,SimpleRNG(197491923327988))"
      ]
     },
     "execution_count": 26,
     "metadata": {},
     "output_type": "execute_result"
    }
   ],
   "source": [
    "double(rng2)"
   ]
  },
  {
   "cell_type": "code",
   "execution_count": 27,
   "metadata": {
    "collapsed": false
   },
   "outputs": [
    {
     "data": {
      "text/plain": []
     },
     "execution_count": 27,
     "metadata": {},
     "output_type": "execute_result"
    },
    {
     "name": "stdout",
     "output_type": "stream",
     "text": []
    }
   ],
   "source": [
    "def intDouble(rng:RNG): ((Int,Double), RNG) = {\n",
    "    val (i, r1) = rng.nextInt\n",
    "    val (d, r2) = double(r1)\n",
    "    ((i,d), r2)\n",
    "}"
   ]
  },
  {
   "cell_type": "code",
   "execution_count": 28,
   "metadata": {
    "collapsed": false
   },
   "outputs": [
    {
     "name": "stdout",
     "output_type": "stream",
     "text": []
    },
    {
     "data": {
      "text/plain": [
       "((-1281479697,0.15846728447753344),SimpleRNG(259172689157871))"
      ]
     },
     "execution_count": 28,
     "metadata": {},
     "output_type": "execute_result"
    }
   ],
   "source": [
    "intDouble(rng2)"
   ]
  },
  {
   "cell_type": "markdown",
   "metadata": {},
   "source": [
    "### Ex.6.3 doubleInt, intDouble, double3"
   ]
  },
  {
   "cell_type": "code",
   "execution_count": 29,
   "metadata": {
    "collapsed": false
   },
   "outputs": [
    {
     "name": "stdout",
     "output_type": "stream",
     "text": []
    },
    {
     "data": {
      "text/plain": []
     },
     "execution_count": 29,
     "metadata": {},
     "output_type": "execute_result"
    }
   ],
   "source": [
    "def doubleInt(rng:RNG): ((Double,Int), RNG) = {\n",
    "    val (i, r1) = rng.nextInt\n",
    "    val (d, r2) = double(r1)\n",
    "    ((d, i), r2)\n",
    "}"
   ]
  },
  {
   "cell_type": "code",
   "execution_count": 30,
   "metadata": {
    "collapsed": false
   },
   "outputs": [
    {
     "data": {
      "text/plain": [
       "((0.15846728447753344,-1281479697),SimpleRNG(259172689157871))"
      ]
     },
     "execution_count": 30,
     "metadata": {},
     "output_type": "execute_result"
    }
   ],
   "source": [
    "doubleInt(rng2)"
   ]
  },
  {
   "cell_type": "code",
   "execution_count": 31,
   "metadata": {
    "collapsed": false
   },
   "outputs": [
    {
     "data": {
      "text/plain": []
     },
     "execution_count": 31,
     "metadata": {},
     "output_type": "execute_result"
    }
   ],
   "source": [
    "def double3(rng:RNG): ((Double,Double,Double),RNG) = {\n",
    "    val (d1, r1) = double(rng)\n",
    "    val (d2, r2) = double(r1)\n",
    "    val (d3, r3) = double(r2)\n",
    "    ((d1,d2,d3),r3)\n",
    "}"
   ]
  },
  {
   "cell_type": "code",
   "execution_count": 32,
   "metadata": {
    "collapsed": false
   },
   "outputs": [
    {
     "data": {
      "text/plain": [
       "((0.5967354856416283,0.15846728447753344,0.9386595436086224),SimpleRNG(149370390209998))"
      ]
     },
     "execution_count": 32,
     "metadata": {},
     "output_type": "execute_result"
    }
   ],
   "source": [
    "double3(rng2)"
   ]
  },
  {
   "cell_type": "markdown",
   "metadata": {},
   "source": [
    "### Ex.6.4 ints"
   ]
  },
  {
   "cell_type": "code",
   "execution_count": 33,
   "metadata": {
    "collapsed": false
   },
   "outputs": [
    {
     "data": {
      "text/plain": []
     },
     "execution_count": 33,
     "metadata": {},
     "output_type": "execute_result"
    },
    {
     "name": "stdout",
     "output_type": "stream",
     "text": []
    }
   ],
   "source": [
    "def ints(count:Int)(rng:RNG): (List[Int], RNG) = {\n",
    "    def go(n:Int,rl:List[Int],rngIn:RNG): (List[Int],RNG) = {\n",
    "        if (n==0) (rl, rngIn)\n",
    "        else {\n",
    "            val (i,rngNext) = rngIn.nextInt\n",
    "            go(n-1, rl :+ i, rngNext)\n",
    "        }\n",
    "    }\n",
    "    go(count,List(),rng)\n",
    "}"
   ]
  },
  {
   "cell_type": "code",
   "execution_count": 34,
   "metadata": {
    "collapsed": false
   },
   "outputs": [
    {
     "data": {
      "text/plain": [
       "(List(-1281479697, -340305902, -2015756020, 1770001318, -1934589059),SimpleRNG(154689748186168))"
      ]
     },
     "execution_count": 34,
     "metadata": {},
     "output_type": "execute_result"
    }
   ],
   "source": [
    "ints(5)(rng2)"
   ]
  },
  {
   "cell_type": "markdown",
   "metadata": {},
   "source": [
    "> As you write more functional programs, you’ll sometimes encounter situations like\n",
    "this where the functional way of expressing a program feels awkward or tedious. Does\n",
    "this imply that purity is the equivalent of trying to write an entire novel without using\n",
    "the letter E? Of course not. ** Awkwardness like this is almost always a sign of some\n",
    "missing abstraction waiting to be discovered.**"
   ]
  },
  {
   "cell_type": "markdown",
   "metadata": {},
   "source": [
    "## 6.4 A better API for state actions"
   ]
  },
  {
   "cell_type": "markdown",
   "metadata": {},
   "source": [
    "### common pattern(\"state actions\", \"state transitions\"):   \n",
    "    RNG => (A, RNG)"
   ]
  },
  {
   "cell_type": "markdown",
   "metadata": {},
   "source": [
    "### RNG state action data type:"
   ]
  },
  {
   "cell_type": "code",
   "execution_count": 35,
   "metadata": {
    "collapsed": false
   },
   "outputs": [
    {
     "data": {
      "text/plain": []
     },
     "execution_count": 35,
     "metadata": {},
     "output_type": "execute_result"
    }
   ],
   "source": [
    "type Rand[+A] = RNG => (A, RNG)"
   ]
  },
  {
   "cell_type": "markdown",
   "metadata": {},
   "source": [
    "#### nextInt as a type of Rand[Int]"
   ]
  },
  {
   "cell_type": "code",
   "execution_count": 36,
   "metadata": {
    "collapsed": false
   },
   "outputs": [
    {
     "data": {
      "text/plain": [
       "<function1>"
      ]
     },
     "execution_count": 36,
     "metadata": {},
     "output_type": "execute_result"
    }
   ],
   "source": [
    "val int: Rand[Int] = _.nextInt"
   ]
  },
  {
   "cell_type": "markdown",
   "metadata": {},
   "source": [
    "### combinators - unit (do nothing)"
   ]
  },
  {
   "cell_type": "code",
   "execution_count": 37,
   "metadata": {
    "collapsed": false
   },
   "outputs": [
    {
     "data": {
      "text/plain": []
     },
     "execution_count": 37,
     "metadata": {},
     "output_type": "execute_result"
    }
   ],
   "source": [
    "def unit[A](a:A): Rand[A] = \n",
    "    rng => (a,rng)"
   ]
  },
  {
   "cell_type": "markdown",
   "metadata": {},
   "source": [
    "### combinators - map (function composition)"
   ]
  },
  {
   "cell_type": "code",
   "execution_count": 38,
   "metadata": {
    "collapsed": false
   },
   "outputs": [
    {
     "data": {
      "text/plain": []
     },
     "execution_count": 38,
     "metadata": {},
     "output_type": "execute_result"
    }
   ],
   "source": [
    "def map[A,B](s:Rand[A])(f: A => B): Rand[B] = \n",
    "    rng => {\n",
    "        val (a, rng2) = s(rng)\n",
    "        (f(a), rng2)\n",
    "    }"
   ]
  },
  {
   "cell_type": "markdown",
   "metadata": {},
   "source": [
    "#### using map to implement nonNegativeEven"
   ]
  },
  {
   "cell_type": "code",
   "execution_count": 39,
   "metadata": {
    "collapsed": false
   },
   "outputs": [
    {
     "data": {
      "text/plain": []
     },
     "execution_count": 39,
     "metadata": {},
     "output_type": "execute_result"
    }
   ],
   "source": [
    "def nonNegativeEven: Rand[Int] =\n",
    "    map(nonNegativeInt)(i => i - i % 2)"
   ]
  },
  {
   "cell_type": "code",
   "execution_count": 40,
   "metadata": {
    "collapsed": false
   },
   "outputs": [
    {
     "data": {
      "text/plain": [
       "(1281479696,SimpleRNG(197491923327988))"
      ]
     },
     "execution_count": 40,
     "metadata": {},
     "output_type": "execute_result"
    }
   ],
   "source": [
    "nonNegativeEven(rng2)"
   ]
  },
  {
   "cell_type": "code",
   "execution_count": 41,
   "metadata": {
    "collapsed": false
   },
   "outputs": [
    {
     "data": {
      "text/plain": [
       "(340305902,SimpleRNG(259172689157871))"
      ]
     },
     "execution_count": 41,
     "metadata": {},
     "output_type": "execute_result"
    }
   ],
   "source": [
    "nonNegativeEven(rng3)"
   ]
  },
  {
   "cell_type": "markdown",
   "metadata": {},
   "source": [
    "### Ex.6.5 double(using 'map'. cf. Ex.6.2)"
   ]
  },
  {
   "cell_type": "code",
   "execution_count": 42,
   "metadata": {
    "collapsed": false
   },
   "outputs": [
    {
     "data": {
      "text/plain": []
     },
     "execution_count": 42,
     "metadata": {},
     "output_type": "execute_result"
    }
   ],
   "source": [
    "def convToDouble(i:Int): Double = {\n",
    "    val maxFloat = Int.MaxValue.toDouble\n",
    "    if (i!=Int.MaxValue) i.toDouble / maxFloat\n",
    "    else (i-1).toDouble / maxFloat\n",
    "}\n",
    "    \n",
    "def doubleViaMap: Rand[Double] = \n",
    "    map(nonNegativeInt)(i => convToDouble(i))"
   ]
  },
  {
   "cell_type": "code",
   "execution_count": 43,
   "metadata": {
    "collapsed": false
   },
   "outputs": [
    {
     "data": {
      "text/plain": [
       "(0.5967354856416283,SimpleRNG(197491923327988))"
      ]
     },
     "execution_count": 43,
     "metadata": {},
     "output_type": "execute_result"
    }
   ],
   "source": [
    "doubleViaMap(rng2)"
   ]
  },
  {
   "cell_type": "code",
   "execution_count": 44,
   "metadata": {
    "collapsed": false
   },
   "outputs": [
    {
     "data": {
      "text/plain": [
       "(0.5967354856416283,SimpleRNG(197491923327988))"
      ]
     },
     "execution_count": 44,
     "metadata": {},
     "output_type": "execute_result"
    }
   ],
   "source": [
    "double(rng2)"
   ]
  },
  {
   "cell_type": "markdown",
   "metadata": {
    "collapsed": true
   },
   "source": [
    "### 6.4.1 Combining state actions"
   ]
  },
  {
   "cell_type": "code",
   "execution_count": 45,
   "metadata": {
    "collapsed": false
   },
   "outputs": [
    {
     "data": {
      "text/plain": []
     },
     "execution_count": 45,
     "metadata": {},
     "output_type": "execute_result"
    }
   ],
   "source": [
    "def map2[A,B,C](ra:Rand[A], rb:Rand[B])(f: (A,B) => C): Rand[C] = {\n",
    "    rng => {\n",
    "        val (a, rngA) = ra(rng)\n",
    "        val (b, rngB) = rb(rngA)\n",
    "        (f(a,b), rngB)\n",
    "    }\n",
    "}"
   ]
  },
  {
   "cell_type": "code",
   "execution_count": 46,
   "metadata": {
    "collapsed": false
   },
   "outputs": [
    {
     "data": {
      "text/plain": []
     },
     "execution_count": 46,
     "metadata": {},
     "output_type": "execute_result"
    }
   ],
   "source": [
    "def both[A,B](ra:Rand[A], rb:Rand[B]): Rand[(A,B)] = map2(ra,rb)((_, _))"
   ]
  },
  {
   "cell_type": "code",
   "execution_count": 47,
   "metadata": {
    "collapsed": false
   },
   "outputs": [
    {
     "data": {
      "text/plain": [
       "<function1>"
      ]
     },
     "execution_count": 47,
     "metadata": {},
     "output_type": "execute_result"
    }
   ],
   "source": [
    "val randIntDouble: Rand[(Int,Double)] = both(int,double)"
   ]
  },
  {
   "cell_type": "code",
   "execution_count": 48,
   "metadata": {
    "collapsed": false
   },
   "outputs": [
    {
     "data": {
      "text/plain": [
       "<function1>"
      ]
     },
     "execution_count": 48,
     "metadata": {},
     "output_type": "execute_result"
    }
   ],
   "source": [
    "val randDoubleInt: Rand[(Double,Int)] = both(double, int)"
   ]
  },
  {
   "cell_type": "code",
   "execution_count": 49,
   "metadata": {
    "collapsed": false
   },
   "outputs": [
    {
     "data": {
      "text/plain": [
       "((-1281479697,0.15846728447753344),SimpleRNG(259172689157871))"
      ]
     },
     "execution_count": 49,
     "metadata": {},
     "output_type": "execute_result"
    }
   ],
   "source": [
    "intDouble(rng2)"
   ]
  },
  {
   "cell_type": "code",
   "execution_count": 50,
   "metadata": {
    "collapsed": false
   },
   "outputs": [
    {
     "data": {
      "text/plain": [
       "((-1281479697,0.15846728447753344),SimpleRNG(259172689157871))"
      ]
     },
     "execution_count": 50,
     "metadata": {},
     "output_type": "execute_result"
    }
   ],
   "source": [
    "randIntDouble(rng2)"
   ]
  },
  {
   "cell_type": "markdown",
   "metadata": {},
   "source": [
    "### Ex.6.7 sequence"
   ]
  },
  {
   "cell_type": "code",
   "execution_count": 51,
   "metadata": {
    "collapsed": false
   },
   "outputs": [
    {
     "data": {
      "text/plain": []
     },
     "execution_count": 51,
     "metadata": {},
     "output_type": "execute_result"
    }
   ],
   "source": [
    "def sequence[A](fs: List[Rand[A]]): Rand[List[A]] = {\n",
    "    def go(ss: List[Rand[A]], ll:List[A], rngIn:RNG): (List[A], RNG) = ss match {\n",
    "        case h :: t => {\n",
    "            val (a, rngOut) = h(rngIn)\n",
    "            go(t, ll :+ a, rngOut)\n",
    "        }\n",
    "        case _ => (ll, rngIn)\n",
    "    }\n",
    "    rng => go(fs, List(), rng)\n",
    "/*\n",
    "book's answer:\n",
    "def sequence ... \n",
    "    fs.foldRight(unit(List[A]()))((f,acc) => map2(f,acc)(_ :: _))\n",
    "\n",
    "def _ints(count:Int): Rand[List[Int]] = \n",
    "    sequence(List.fill(count)(int))\n",
    "*/\n",
    "}"
   ]
  },
  {
   "cell_type": "code",
   "execution_count": 52,
   "metadata": {
    "collapsed": false
   },
   "outputs": [
    {
     "data": {
      "text/plain": []
     },
     "execution_count": 52,
     "metadata": {},
     "output_type": "execute_result"
    }
   ],
   "source": [
    "def randInts(count:Int)(rng:RNG): (List[Int], RNG) = {\n",
    "    sequence(List.fill(count)(int))(rng)\n",
    "}"
   ]
  },
  {
   "cell_type": "code",
   "execution_count": 53,
   "metadata": {
    "collapsed": false
   },
   "outputs": [
    {
     "data": {
      "text/plain": [
       "(List(-1281479697, -340305902, -2015756020, 1770001318, -1934589059),SimpleRNG(154689748186168))"
      ]
     },
     "execution_count": 53,
     "metadata": {},
     "output_type": "execute_result"
    }
   ],
   "source": [
    "ints(5)(rng2)"
   ]
  },
  {
   "cell_type": "code",
   "execution_count": 54,
   "metadata": {
    "collapsed": false
   },
   "outputs": [
    {
     "data": {
      "text/plain": [
       "(List(-1281479697, -340305902, -2015756020, 1770001318, -1934589059),SimpleRNG(154689748186168))"
      ]
     },
     "execution_count": 54,
     "metadata": {},
     "output_type": "execute_result"
    }
   ],
   "source": [
    "randInts(5)(rng2)"
   ]
  },
  {
   "cell_type": "markdown",
   "metadata": {},
   "source": [
    "### 6.4.2 Nesting state actions"
   ]
  },
  {
   "cell_type": "code",
   "execution_count": 55,
   "metadata": {
    "collapsed": false
   },
   "outputs": [
    {
     "name": "stdout",
     "output_type": "stream",
     "text": []
    },
    {
     "data": {
      "text/plain": []
     },
     "execution_count": 55,
     "metadata": {},
     "output_type": "execute_result"
    }
   ],
   "source": [
    "def nonNegativeLessThan_1st_try(n:Int): Rand[Int] = \n",
    "    map(nonNegativeInt)(_ % n)"
   ]
  },
  {
   "cell_type": "markdown",
   "metadata": {},
   "source": [
    "#### => not fair (or 'skewed') (Why?? cf. https://forums.manning.com/posts/list/34423.page)"
   ]
  },
  {
   "cell_type": "code",
   "execution_count": 56,
   "metadata": {
    "collapsed": false
   },
   "outputs": [
    {
     "data": {
      "text/plain": []
     },
     "execution_count": 56,
     "metadata": {},
     "output_type": "execute_result"
    }
   ],
   "source": [
    "def tryN(count:Int)(f: Rand[Int]): Rand[List[Int]] = sequence(List.fill(count)(f))"
   ]
  },
  {
   "cell_type": "code",
   "execution_count": 57,
   "metadata": {
    "collapsed": false
   },
   "outputs": [
    {
     "data": {
      "text/plain": [
       "(List(97, 2, 20, 18, 59, 12, 41, 59, 74, 94, 32, 17, 91, 81, 21, 62, 33, 77, 70, 0, 36, 48, 92, 59, 64, 63, 11, 99, 16, 76, 22, 87, 43, 24, 70, 2, 47, 39, 68, 22, 36, 2, 64, 78, 85, 22, 39, 69, 46, 39, 4, 4, 27, 36, 18, 11, 16, 36, 8, 9, 26, 74, 25, 94, 54, 52, 18, 53, 60, 22, 69, 49, 91, 2, 4, 0, 97, 19, 29, 98, 32, 55, 48, 6, 43, 19, 75, 84, 64, 42, 68, 13, 82, 35, 9, 20, 29, 6, 13, 60),SimpleRNG(186499461027745))"
      ]
     },
     "execution_count": 57,
     "metadata": {},
     "output_type": "execute_result"
    }
   ],
   "source": [
    "tryN(100)(nonNegativeLessThan_1st_try(100))(rng2)"
   ]
  },
  {
   "cell_type": "code",
   "execution_count": 94,
   "metadata": {
    "collapsed": false
   },
   "outputs": [
    {
     "data": {
      "text/plain": [
       "60"
      ]
     },
     "execution_count": 94,
     "metadata": {},
     "output_type": "execute_result"
    }
   ],
   "source": [
    "tryN(100)(nonNegativeLessThan_1st_try(100))(rng2)._1.filter(_ < 50).length"
   ]
  },
  {
   "cell_type": "code",
   "execution_count": 95,
   "metadata": {
    "collapsed": false
   },
   "outputs": [
    {
     "data": {
      "text/plain": []
     },
     "execution_count": 95,
     "metadata": {},
     "output_type": "execute_result"
    }
   ],
   "source": [
    "def nonNegativeLessThan_2nd(n: Int): Rand[Int] = { rng =>\n",
    "    val (i, rng2) = nonNegativeInt(rng)\n",
    "    val mod = i % n\n",
    "    if (i + (n-1) - mod >= 0)\n",
    "        (mod, rng2)\n",
    "    else nonNegativeLessThan_2nd(n)(rng2)\n",
    "}"
   ]
  },
  {
   "cell_type": "code",
   "execution_count": 96,
   "metadata": {
    "collapsed": false
   },
   "outputs": [
    {
     "data": {
      "text/plain": [
       "true"
      ]
     },
     "execution_count": 96,
     "metadata": {},
     "output_type": "execute_result"
    }
   ],
   "source": [
    "tryN(1000)(nonNegativeLessThan_1st_try(100))(SimpleRNG(11163)) == \n",
    "tryN(1000)(nonNegativeLessThan_2nd(100))(SimpleRNG(11163))"
   ]
  },
  {
   "cell_type": "markdown",
   "metadata": {},
   "source": [
    "### Ex. 6.8 flatMap"
   ]
  },
  {
   "cell_type": "code",
   "execution_count": 98,
   "metadata": {
    "collapsed": false
   },
   "outputs": [
    {
     "data": {
      "text/plain": []
     },
     "execution_count": 98,
     "metadata": {},
     "output_type": "execute_result"
    }
   ],
   "source": [
    "def flatMap[A,B](f: Rand[A])(g: A => Rand[B]): Rand[B] = {\n",
    "    rng => {\n",
    "        val (i,rngNext) = f(rng)\n",
    "        g(i)(rngNext)    // g(i) ??\n",
    "    }\n",
    "}"
   ]
  },
  {
   "cell_type": "code",
   "execution_count": 62,
   "metadata": {
    "collapsed": false
   },
   "outputs": [
    {
     "data": {
      "text/plain": []
     },
     "execution_count": 62,
     "metadata": {},
     "output_type": "execute_result"
    }
   ],
   "source": [
    "def nonNegativeLessThan(n:Int): Rand[Int] = {\n",
    "    flatMap(nonNegativeInt){ i =>\n",
    "        val mod = i % n\n",
    "        if (i + (n-1) - mod >= 0) unit(mod) else nonNegativeLessThan(n)\n",
    "    }\n",
    "}"
   ]
  },
  {
   "cell_type": "code",
   "execution_count": 97,
   "metadata": {
    "collapsed": false
   },
   "outputs": [
    {
     "data": {
      "text/plain": [
       "SimpleRNG(186499461027745)"
      ]
     },
     "execution_count": 97,
     "metadata": {},
     "output_type": "execute_result"
    }
   ],
   "source": [
    "tryN(100)(nonNegativeLessThan(100))(rng2)._2"
   ]
  },
  {
   "cell_type": "markdown",
   "metadata": {},
   "source": [
    "### Ex. 6.9 mapViaFlatMap, map2ViaFlatMap"
   ]
  },
  {
   "cell_type": "code",
   "execution_count": 64,
   "metadata": {
    "collapsed": false
   },
   "outputs": [
    {
     "data": {
      "text/plain": []
     },
     "execution_count": 64,
     "metadata": {},
     "output_type": "execute_result"
    }
   ],
   "source": [
    "def mapViaFlatMap[A,B](s: Rand[A])(f: A => B): Rand[B] = {\n",
    "    /* flatMap(s)(a => (f(a),_)) */\n",
    "    flatMap(s)(a => unit(f(a)))\n",
    "}"
   ]
  },
  {
   "cell_type": "code",
   "execution_count": 65,
   "metadata": {
    "collapsed": false
   },
   "outputs": [
    {
     "data": {
      "text/plain": []
     },
     "execution_count": 65,
     "metadata": {},
     "output_type": "execute_result"
    }
   ],
   "source": [
    "def _nonNegativeEven: Rand[Int] =\n",
    "    mapViaFlatMap(nonNegativeInt)(i => i - i % 2)"
   ]
  },
  {
   "cell_type": "code",
   "execution_count": 66,
   "metadata": {
    "collapsed": false
   },
   "outputs": [
    {
     "data": {
      "text/plain": [
       "(1281479696,SimpleRNG(197491923327988))"
      ]
     },
     "execution_count": 66,
     "metadata": {},
     "output_type": "execute_result"
    }
   ],
   "source": [
    "nonNegativeEven(rng2)"
   ]
  },
  {
   "cell_type": "code",
   "execution_count": 67,
   "metadata": {
    "collapsed": false
   },
   "outputs": [
    {
     "data": {
      "text/plain": [
       "(1281479696,SimpleRNG(197491923327988))"
      ]
     },
     "execution_count": 67,
     "metadata": {},
     "output_type": "execute_result"
    }
   ],
   "source": [
    "_nonNegativeEven(rng2)"
   ]
  },
  {
   "cell_type": "code",
   "execution_count": 68,
   "metadata": {
    "collapsed": false
   },
   "outputs": [
    {
     "data": {
      "text/plain": []
     },
     "execution_count": 68,
     "metadata": {},
     "output_type": "execute_result"
    }
   ],
   "source": [
    "def map2ViaFlatMap[A,B,C](ra: Rand[A], rb:Rand[B])(f: (A,B) => C): Rand[C] = {\n",
    "   flatMap(ra)(a => map(rb)(b => f(a,b)))\n",
    "}"
   ]
  },
  {
   "cell_type": "code",
   "execution_count": 69,
   "metadata": {
    "collapsed": false
   },
   "outputs": [
    {
     "data": {
      "text/plain": [
       "<function1>"
      ]
     },
     "execution_count": 69,
     "metadata": {},
     "output_type": "execute_result"
    }
   ],
   "source": [
    "def _both[A,B](ra:Rand[A], rb:Rand[B]): Rand[(A,B)] = {\n",
    "    map2ViaFlatMap(ra,rb)((_, _))\n",
    "    /* def both[A,B](ra:Rand[A], rb:Rand[B]): Rand[(A,B)] = map2(ra,rb)((_, _)) */\n",
    "}\n",
    "val _randIntDouble: Rand[(Int,Double)] = _both(int,double)"
   ]
  },
  {
   "cell_type": "code",
   "execution_count": 70,
   "metadata": {
    "collapsed": false
   },
   "outputs": [
    {
     "data": {
      "text/plain": [
       "((-1281479697,0.15846728447753344),SimpleRNG(259172689157871))"
      ]
     },
     "execution_count": 70,
     "metadata": {},
     "output_type": "execute_result"
    }
   ],
   "source": [
    "randIntDouble(rng2)"
   ]
  },
  {
   "cell_type": "code",
   "execution_count": 71,
   "metadata": {
    "collapsed": false
   },
   "outputs": [
    {
     "data": {
      "text/plain": [
       "((-1281479697,0.15846728447753344),SimpleRNG(259172689157871))"
      ]
     },
     "execution_count": 71,
     "metadata": {},
     "output_type": "execute_result"
    }
   ],
   "source": [
    "_randIntDouble(rng2)"
   ]
  },
  {
   "cell_type": "code",
   "execution_count": 72,
   "metadata": {
    "collapsed": false
   },
   "outputs": [
    {
     "data": {
      "text/plain": []
     },
     "execution_count": 72,
     "metadata": {},
     "output_type": "execute_result"
    }
   ],
   "source": [
    "def rollDie: Rand[Int] = nonNegativeLessThan(6)"
   ]
  },
  {
   "cell_type": "code",
   "execution_count": 73,
   "metadata": {
    "collapsed": false
   },
   "outputs": [
    {
     "data": {
      "text/plain": [
       "(List(3, 2, 4, 4, 5, 2, 1, 5, 2, 4, 4, 1, 3, 1, 3, 4, 3, 3, 4, 0, 4, 0, 2, 1, 2, 3, 5, 5, 0, 2, 4, 5, 5, 2, 4, 4, 3, 1, 2, 2, 2, 2, 4, 2, 5, 4, 3, 1, 4, 1, 4, 4, 1, 0, 4, 5, 2, 0, 2, 5, 4, 4, 3, 2, 2, 0, 0, 3, 2, 0, 3, 1, 1, 2, 2, 4, 3, 1, 3, 0, 2, 3, 2, 2, 3, 1, 1, 4, 2, 4, 2, 5, 4, 5, 5, 2, 1, 4, 3, 4),SimpleRNG(186499461027745))"
      ]
     },
     "execution_count": 73,
     "metadata": {},
     "output_type": "execute_result"
    }
   ],
   "source": [
    "tryN(100)(rollDie)(rng2)"
   ]
  },
  {
   "cell_type": "code",
   "execution_count": 74,
   "metadata": {
    "collapsed": false,
    "scrolled": true
   },
   "outputs": [
    {
     "data": {
      "text/plain": []
     },
     "execution_count": 74,
     "metadata": {},
     "output_type": "execute_result"
    }
   ],
   "source": [
    "def _rollDie: Rand[Int] = map(nonNegativeLessThan(6))(_ + 1)"
   ]
  },
  {
   "cell_type": "code",
   "execution_count": 75,
   "metadata": {
    "collapsed": false
   },
   "outputs": [
    {
     "data": {
      "text/plain": [
       "(List(4, 3, 5, 5, 6, 3, 2, 6, 3, 5, 5, 2, 4, 2, 4, 5, 4, 4, 5, 1, 5, 1, 3, 2, 3, 4, 6, 6, 1, 3, 5, 6, 6, 3, 5, 5, 4, 2, 3, 3, 3, 3, 5, 3, 6, 5, 4, 2, 5, 2, 5, 5, 2, 1, 5, 6, 3, 1, 3, 6, 5, 5, 4, 3, 3, 1, 1, 4, 3, 1, 4, 2, 2, 3, 3, 5, 4, 2, 4, 1, 3, 4, 3, 3, 4, 2, 2, 5, 3, 5, 3, 6, 5, 6, 6, 3, 2, 5, 4, 5),SimpleRNG(186499461027745))"
      ]
     },
     "execution_count": 75,
     "metadata": {},
     "output_type": "execute_result"
    }
   ],
   "source": [
    "tryN(100)(_rollDie)(rng2)"
   ]
  },
  {
   "cell_type": "markdown",
   "metadata": {},
   "source": [
    "## 6.5 A general state action data type"
   ]
  },
  {
   "cell_type": "markdown",
   "metadata": {
    "collapsed": true
   },
   "source": [
    "### - NOTE: map() 함수 자체는 RNG를 다루는지조차 모름."
   ]
  },
  {
   "cell_type": "code",
   "execution_count": 115,
   "metadata": {
    "collapsed": false
   },
   "outputs": [
    {
     "ename": "",
     "evalue": "",
     "output_type": "error",
     "traceback": [
      "incomplete"
     ]
    }
   ],
   "source": [
    "/*\n",
    "def map[S,A,B](a: S => (A,S))(f: A => B): S => (B,S) ={\n",
    "    S => {\n",
    "        val (v, nextState) = a(S)\n",
    "        (f(v), nextState)\n",
    "    }\n",
    "    // def map[A,B](s:Rand[A])(f: A => B): Rand[B] = \n",
    "    // rng => {\n",
    "    //     val (a, rng2) = s(rng)\n",
    "    //     (f(a), rng2)\n",
    "    // }\n",
    "}\n",
    "*/"
   ]
  },
  {
   "cell_type": "markdown",
   "metadata": {},
   "source": [
    "### - map(), map2(), flatmap()을 (state action을 다룰 수 있는) 일반적인 함수로 만들어보자!"
   ]
  },
  {
   "cell_type": "code",
   "execution_count": 117,
   "metadata": {
    "collapsed": false
   },
   "outputs": [
    {
     "ename": "",
     "evalue": "",
     "output_type": "error",
     "traceback": [
      "incomplete"
     ]
    }
   ],
   "source": [
    "/* type State[S,+A] = S => (A, S) */"
   ]
  },
  {
   "cell_type": "code",
   "execution_count": 114,
   "metadata": {
    "collapsed": false
   },
   "outputs": [
    {
     "ename": "",
     "evalue": "",
     "output_type": "error",
     "traceback": [
      "incomplete"
     ]
    }
   ],
   "source": [
    "/* case class State[S,+A](run: S => (A,S)) */"
   ]
  },
  {
   "cell_type": "markdown",
   "metadata": {},
   "source": [
    "#### Rand[A]는 State[S,+A]의 인스턴스 중 하나로 볼 수 있음."
   ]
  },
  {
   "cell_type": "code",
   "execution_count": 116,
   "metadata": {
    "collapsed": false
   },
   "outputs": [
    {
     "ename": "",
     "evalue": "",
     "output_type": "error",
     "traceback": [
      "incomplete"
     ]
    }
   ],
   "source": [
    "// type Rand[A] = State[RNG, A]"
   ]
  },
  {
   "cell_type": "markdown",
   "metadata": {},
   "source": [
    "### Ex. 6.10 generalize map(),map2(),flatMap() and sequence() as functions on the State class"
   ]
  },
  {
   "cell_type": "markdown",
   "metadata": {},
   "source": [
    "#### 책의 답안이 컴파일이 안 돼....ㅜ.ㅜ"
   ]
  },
  {
   "cell_type": "code",
   "execution_count": 120,
   "metadata": {
    "collapsed": false
   },
   "outputs": [
    {
     "ename": "",
     "evalue": "",
     "output_type": "error",
     "traceback": [
      "Compilation Failed",
      "\u001b[31mMain.scala:128: type mismatch;",
      " found   : cmd34.Rand[B]",
      "    (which expands to)  cmd8.RNG => (B, cmd8.RNG)",
      " required: cmd107.State[S,B]\r",
      "    flatMap(a => unit(f(a)))\r",
      "                     ^\u001b[0m"
     ]
    }
   ],
   "source": [
    "case class State[S, +A](run: S => (A, S)) {\n",
    "  def map[B](f: A => B): State[S, B] =\n",
    "    flatMap(a => unit(f(a)))\n",
    "  def map2[B,C](sb: State[S, B])(f: (A, B) => C): State[S, C] =\n",
    "    flatMap(a => sb.map(b => f(a, b)))\n",
    "  def flatMap[B](f: A => State[S, B]): State[S, B] = State(s => {\n",
    "    val (a, s1) = run(s)\n",
    "    f(a).run(s1)\n",
    "  })\n",
    "}\n",
    "\n",
    "object State {\n",
    "\n",
    "  def unit[S, A](a: A): State[S, A] =\n",
    "    State(s => (a, s))\n",
    "\n",
    "  // The idiomatic solution is expressed via foldRight\n",
    "  def sequenceViaFoldRight[S,A](sas: List[State[S, A]]): State[S, List[A]] =\n",
    "    sas.foldRight(unit[S, List[A]](List()))((f, acc) => f.map2(acc)(_ :: _))\n",
    "\n",
    "  // This implementation uses a loop internally and is the same recursion\n",
    "  // pattern as a left fold. It is quite common with left folds to build\n",
    "  // up a list in reverse order, then reverse it at the end.\n",
    "  // (We could also use a collection.mutable.ListBuffer internally.)\n",
    "  def sequence[S, A](sas: List[State[S, A]]): State[S, List[A]] = {\n",
    "    def go(s: S, actions: List[State[S,A]], acc: List[A]): (List[A],S) =\n",
    "      actions match {\n",
    "        case Nil => (acc.reverse,s)\n",
    "        case h :: t => h.run(s) match { case (a,s2) => go(s2, t, a :: acc) }\n",
    "      }\n",
    "    State((s: S) => go(s,sas,List()))\n",
    "  }\n",
    "\n",
    "  // We can also write the loop using a left fold. This is tail recursive like the\n",
    "  // previous solution, but it reverses the list _before_ folding it instead of after.\n",
    "  // You might think that this is slower than the `foldRight` solution since it\n",
    "  // walks over the list twice, but it's actually faster! The `foldRight` solution\n",
    "  // technically has to also walk the list twice, since it has to unravel the call\n",
    "  // stack, not being tail recursive. And the call stack will be as tall as the list\n",
    "  // is long.\n",
    "  def sequenceViaFoldLeft[S,A](l: List[State[S, A]]): State[S, List[A]] =\n",
    "    l.reverse.foldLeft(unit[S, List[A]](List()))((acc, f) => f.map2(acc)( _ :: _ ))\n",
    "\n",
    "  def modify[S](f: S => S): State[S, Unit] = for {\n",
    "    s <- get // Gets the current state and assigns it to `s`.\n",
    "    _ <- set(f(s)) // Sets the new state to `f` applied to `s`.\n",
    "  } yield ()\n",
    "\n",
    "  def get[S]: State[S, S] = State(s => (s, s))\n",
    "\n",
    "  def set[S](s: S): State[S, Unit] = State(_ => ((), s))\n",
    "}"
   ]
  },
  {
   "cell_type": "markdown",
   "metadata": {},
   "source": [
    "## 6.6 Purely functional imperative programming"
   ]
  },
  {
   "cell_type": "markdown",
   "metadata": {},
   "source": [
    "### FP는 단순히 얘기하면 \"side-effect 없는 프로그래밍 기법\""
   ]
  },
  {
   "cell_type": "markdown",
   "metadata": {},
   "source": [
    "#### functional style"
   ]
  },
  {
   "cell_type": "code",
   "execution_count": 105,
   "metadata": {
    "collapsed": false
   },
   "outputs": [
    {
     "ename": "",
     "evalue": "",
     "output_type": "error",
     "traceback": [
      "incomplete"
     ]
    }
   ],
   "source": [
    "/* val ns: Rand[List[Int]] = \n",
    "    int.flatMap(x =>\n",
    "               int.flatMap(y =>\n",
    "                          ints(x).map(xs =>\n",
    "                                     xs.map(_ % y))))\n",
    "                                     */"
   ]
  },
  {
   "cell_type": "markdown",
   "metadata": {},
   "source": [
    "#### imperative style  (but /wo side-effects)"
   ]
  },
  {
   "cell_type": "code",
   "execution_count": 106,
   "metadata": {
    "collapsed": false
   },
   "outputs": [
    {
     "ename": "",
     "evalue": "",
     "output_type": "error",
     "traceback": [
      "incomplete"
     ]
    }
   ],
   "source": [
    "/*\n",
    "val ns: Rand[List[Int]] = for {\n",
    "    x <- int\n",
    "    y <- int\n",
    "    xs <- ints(x)\n",
    "} yield xs.map(_ % y)\n",
    "*/"
   ]
  },
  {
   "cell_type": "markdown",
   "metadata": {},
   "source": [
    "### combinator - modify"
   ]
  },
  {
   "cell_type": "code",
   "execution_count": 112,
   "metadata": {
    "collapsed": false
   },
   "outputs": [
    {
     "data": {
      "text/plain": []
     },
     "execution_count": 112,
     "metadata": {},
     "output_type": "execute_result"
    }
   ],
   "source": [
    "def get[S]: State[S,S] = State(s => (s,s))"
   ]
  },
  {
   "cell_type": "code",
   "execution_count": 113,
   "metadata": {
    "collapsed": false
   },
   "outputs": [
    {
     "name": "stdout",
     "output_type": "stream",
     "text": []
    },
    {
     "data": {
      "text/plain": []
     },
     "execution_count": 113,
     "metadata": {},
     "output_type": "execute_result"
    }
   ],
   "source": [
    "def set[S](s: S): State[S,Unit] = State(_ => ((),s))"
   ]
  },
  {
   "cell_type": "code",
   "execution_count": 114,
   "metadata": {
    "collapsed": false
   },
   "outputs": [
    {
     "ename": "",
     "evalue": "",
     "output_type": "error",
     "traceback": [
      "Compilation Failed",
      "\u001b[31mMain.scala:127: value flatMap is not a member of cmd99.State[S,S]\r",
      "    s <- get\r",
      "         ^\u001b[0m",
      "\u001b[31mMain.scala:128: value map is not a member of cmd99.State[S,Unit]\r",
      "    _ <- set(f(s))\r",
      "            ^\u001b[0m"
     ]
    }
   ],
   "source": [
    "def modify[S](f: S => S): State[S, Unit] = for {\n",
    "    s <- get\n",
    "    _ <- set(f(s))\n",
    "} yield()"
   ]
  },
  {
   "cell_type": "markdown",
   "metadata": {},
   "source": [
    "# 결론:  side-effect 없이 프로그래밍하는 방법을 끊임없이 생각해봐라..."
   ]
  },
  {
   "cell_type": "code",
   "execution_count": null,
   "metadata": {
    "collapsed": true
   },
   "outputs": [],
   "source": []
  }
 ],
 "metadata": {
  "kernelspec": {
   "display_name": "Scala 2.11",
   "language": "scala",
   "name": "scala-2.11"
  },
  "language_info": {
   "codemirror_mode": "text/x-scala",
   "file_extension": "scala",
   "mimetype": "text/x-scala",
   "name": "scala"
  }
 },
 "nbformat": 4,
 "nbformat_minor": 0
}
